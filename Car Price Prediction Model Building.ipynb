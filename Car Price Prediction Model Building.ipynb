{
 "cells": [
  {
   "cell_type": "markdown",
   "id": "22e414a5",
   "metadata": {},
   "source": [
    "# <center> Car Price Prediction Model Building"
   ]
  },
  {
   "cell_type": "markdown",
   "id": "a979b8e5",
   "metadata": {},
   "source": [
    "<img src=\"Red-sport-car-isolated-on-transparent-background-PNG.png\"     img>"
   ]
  },
  {
   "cell_type": "code",
   "execution_count": null,
   "id": "988a9899",
   "metadata": {},
   "outputs": [],
   "source": [
    "!pip3 install bayesian-optimization"
   ]
  },
  {
   "cell_type": "code",
   "execution_count": 1,
   "id": "acd4297d",
   "metadata": {},
   "outputs": [],
   "source": [
    "import pandas as pd\n",
    "import numpy as np\n",
    "import matplotlib.pyplot as plt\n",
    "import seaborn as sns\n",
    "import plotly.express as px\n",
    "import warnings\n",
    "\n",
    "\n",
    "from bayes_opt import BayesianOptimization\n",
    "\n",
    "import sklearn \n",
    "from sklearn import preprocessing\n",
    "from sklearn.preprocessing import OneHotEncoder,LabelEncoder,PolynomialFeatures,StandardScaler\n",
    "\n",
    "\n",
    "from sklearn.linear_model import LinearRegression,LogisticRegression,Ridge,Lasso\n",
    "from sklearn.tree import DecisionTreeRegressor\n",
    "from sklearn.ensemble import RandomForestRegressor,GradientBoostingRegressor,AdaBoostRegressor,\\\n",
    "VotingRegressor,ExtraTreesRegressor,HistGradientBoostingRegressor\n",
    "from sklearn.neighbors import KNeighborsRegressor\n",
    "from sklearn.neural_network import MLPRegressor\n",
    "from sklearn import svm\n",
    "from xgboost import XGBRegressor\n",
    "\n",
    "\n",
    "from sklearn.metrics import r2_score, mean_squared_error as mse, mean_absolute_error as mae\n",
    "from sklearn.model_selection import cross_val_score,cross_val_predict\n",
    "from sklearn.model_selection import train_test_split,GridSearchCV,RandomizedSearchCV\n",
    "from sklearn.metrics import accuracy_score,confusion_matrix\n",
    "\n",
    "\n",
    "from datetime import datetime\n",
    "\n",
    "warnings.filterwarnings(\"ignore\")"
   ]
  },
  {
   "cell_type": "markdown",
   "id": "70a5b82c",
   "metadata": {},
   "source": [
    "# Load Data"
   ]
  },
  {
   "cell_type": "code",
   "execution_count": 2,
   "id": "6042bd67",
   "metadata": {},
   "outputs": [
    {
     "data": {
      "text/html": [
       "<div>\n",
       "<style scoped>\n",
       "    .dataframe tbody tr th:only-of-type {\n",
       "        vertical-align: middle;\n",
       "    }\n",
       "\n",
       "    .dataframe tbody tr th {\n",
       "        vertical-align: top;\n",
       "    }\n",
       "\n",
       "    .dataframe thead th {\n",
       "        text-align: right;\n",
       "    }\n",
       "</style>\n",
       "<table border=\"1\" class=\"dataframe\">\n",
       "  <thead>\n",
       "    <tr style=\"text-align: right;\">\n",
       "      <th></th>\n",
       "      <th>Power</th>\n",
       "      <th>Kilométrage</th>\n",
       "      <th>Boite_de_vitesses</th>\n",
       "      <th>Puissance_fiscale</th>\n",
       "      <th>Première_main</th>\n",
       "      <th>Carrosserie</th>\n",
       "      <th>Price</th>\n",
       "      <th>Mark</th>\n",
       "      <th>Model</th>\n",
       "      <th>Age</th>\n",
       "      <th>N_features</th>\n",
       "    </tr>\n",
       "  </thead>\n",
       "  <tbody>\n",
       "    <tr>\n",
       "      <th>0</th>\n",
       "      <td>Diesel</td>\n",
       "      <td>300000.0</td>\n",
       "      <td>Manuelle</td>\n",
       "      <td>7.0</td>\n",
       "      <td>0</td>\n",
       "      <td>Citadine</td>\n",
       "      <td>45000.0</td>\n",
       "      <td>PEUGEOT</td>\n",
       "      <td>206</td>\n",
       "      <td>21</td>\n",
       "      <td>5</td>\n",
       "    </tr>\n",
       "    <tr>\n",
       "      <th>1</th>\n",
       "      <td>Diesel</td>\n",
       "      <td>70000.0</td>\n",
       "      <td>Manuelle</td>\n",
       "      <td>6.0</td>\n",
       "      <td>1</td>\n",
       "      <td>Citadine</td>\n",
       "      <td>158000.0</td>\n",
       "      <td>NISSAN</td>\n",
       "      <td>Micra</td>\n",
       "      <td>2</td>\n",
       "      <td>31</td>\n",
       "    </tr>\n",
       "    <tr>\n",
       "      <th>2</th>\n",
       "      <td>Diesel</td>\n",
       "      <td>155000.0</td>\n",
       "      <td>Automatique</td>\n",
       "      <td>9.0</td>\n",
       "      <td>1</td>\n",
       "      <td>Suv et 4x4</td>\n",
       "      <td>225000.0</td>\n",
       "      <td>HYUNDAI</td>\n",
       "      <td>Santa fe</td>\n",
       "      <td>7</td>\n",
       "      <td>38</td>\n",
       "    </tr>\n",
       "    <tr>\n",
       "      <th>3</th>\n",
       "      <td>Diesel</td>\n",
       "      <td>154000.0</td>\n",
       "      <td>Manuelle</td>\n",
       "      <td>11.0</td>\n",
       "      <td>1</td>\n",
       "      <td>Utilitaire (van)</td>\n",
       "      <td>300000.0</td>\n",
       "      <td>FIAT</td>\n",
       "      <td>Ducato</td>\n",
       "      <td>17</td>\n",
       "      <td>0</td>\n",
       "    </tr>\n",
       "    <tr>\n",
       "      <th>4</th>\n",
       "      <td>Diesel</td>\n",
       "      <td>93000.0</td>\n",
       "      <td>Manuelle</td>\n",
       "      <td>9.0</td>\n",
       "      <td>1</td>\n",
       "      <td>Utilitaire (van)</td>\n",
       "      <td>162000.0</td>\n",
       "      <td>PEUGEOT</td>\n",
       "      <td>Boxer</td>\n",
       "      <td>7</td>\n",
       "      <td>16</td>\n",
       "    </tr>\n",
       "  </tbody>\n",
       "</table>\n",
       "</div>"
      ],
      "text/plain": [
       "    Power  Kilométrage Boite_de_vitesses  Puissance_fiscale  Première_main  \\\n",
       "0  Diesel     300000.0          Manuelle                7.0              0   \n",
       "1  Diesel      70000.0          Manuelle                6.0              1   \n",
       "2  Diesel     155000.0       Automatique                9.0              1   \n",
       "3  Diesel     154000.0          Manuelle               11.0              1   \n",
       "4  Diesel      93000.0          Manuelle                9.0              1   \n",
       "\n",
       "        Carrosserie     Price     Mark     Model  Age  N_features  \n",
       "0          Citadine   45000.0  PEUGEOT       206   21           5  \n",
       "1          Citadine  158000.0   NISSAN     Micra    2          31  \n",
       "2        Suv et 4x4  225000.0  HYUNDAI  Santa fe    7          38  \n",
       "3  Utilitaire (van)  300000.0     FIAT    Ducato   17           0  \n",
       "4  Utilitaire (van)  162000.0  PEUGEOT     Boxer    7          16  "
      ]
     },
     "execution_count": 2,
     "metadata": {},
     "output_type": "execute_result"
    }
   ],
   "source": [
    "df=pd.read_csv(\"cars_data_after_feature_engenniring.csv\")\n",
    "df.drop(columns=[\"Unnamed: 0\"],inplace=True)\n",
    "#df=df[[\"Kilométrage\",\"Puissance_fiscale\",\"Age\",\"N_features\",\"Price\"]]\n",
    "df.head()"
   ]
  },
  {
   "cell_type": "markdown",
   "id": "42fe8084",
   "metadata": {},
   "source": [
    "# Data Preprocessing "
   ]
  },
  {
   "cell_type": "markdown",
   "id": "1ce0807e",
   "metadata": {},
   "source": [
    "## 1- OneHotEncoding"
   ]
  },
  {
   "cell_type": "code",
   "execution_count": 3,
   "id": "db337fa8",
   "metadata": {},
   "outputs": [
    {
     "data": {
      "text/html": [
       "<div>\n",
       "<style scoped>\n",
       "    .dataframe tbody tr th:only-of-type {\n",
       "        vertical-align: middle;\n",
       "    }\n",
       "\n",
       "    .dataframe tbody tr th {\n",
       "        vertical-align: top;\n",
       "    }\n",
       "\n",
       "    .dataframe thead th {\n",
       "        text-align: right;\n",
       "    }\n",
       "</style>\n",
       "<table border=\"1\" class=\"dataframe\">\n",
       "  <thead>\n",
       "    <tr style=\"text-align: right;\">\n",
       "      <th></th>\n",
       "      <th>Kilométrage</th>\n",
       "      <th>Puissance_fiscale</th>\n",
       "      <th>Première_main</th>\n",
       "      <th>Price</th>\n",
       "      <th>Age</th>\n",
       "      <th>N_features</th>\n",
       "      <th>Power_Diesel</th>\n",
       "      <th>Power_Electrique</th>\n",
       "      <th>Power_Essence</th>\n",
       "      <th>Power_Hybride</th>\n",
       "      <th>...</th>\n",
       "      <th>Model_Xlv</th>\n",
       "      <th>Model_Xsara</th>\n",
       "      <th>Model_Xsara picasso</th>\n",
       "      <th>Model_Yaris</th>\n",
       "      <th>Model_Yaris cross</th>\n",
       "      <th>Model_Yeti</th>\n",
       "      <th>Model_Ypsilon</th>\n",
       "      <th>Model_Yrv</th>\n",
       "      <th>Model_Zafira</th>\n",
       "      <th>Model_Zx</th>\n",
       "    </tr>\n",
       "  </thead>\n",
       "  <tbody>\n",
       "    <tr>\n",
       "      <th>0</th>\n",
       "      <td>300000.0</td>\n",
       "      <td>7.0</td>\n",
       "      <td>0</td>\n",
       "      <td>45000.0</td>\n",
       "      <td>21</td>\n",
       "      <td>5</td>\n",
       "      <td>1</td>\n",
       "      <td>0</td>\n",
       "      <td>0</td>\n",
       "      <td>0</td>\n",
       "      <td>...</td>\n",
       "      <td>0</td>\n",
       "      <td>0</td>\n",
       "      <td>0</td>\n",
       "      <td>0</td>\n",
       "      <td>0</td>\n",
       "      <td>0</td>\n",
       "      <td>0</td>\n",
       "      <td>0</td>\n",
       "      <td>0</td>\n",
       "      <td>0</td>\n",
       "    </tr>\n",
       "    <tr>\n",
       "      <th>1</th>\n",
       "      <td>70000.0</td>\n",
       "      <td>6.0</td>\n",
       "      <td>1</td>\n",
       "      <td>158000.0</td>\n",
       "      <td>2</td>\n",
       "      <td>31</td>\n",
       "      <td>1</td>\n",
       "      <td>0</td>\n",
       "      <td>0</td>\n",
       "      <td>0</td>\n",
       "      <td>...</td>\n",
       "      <td>0</td>\n",
       "      <td>0</td>\n",
       "      <td>0</td>\n",
       "      <td>0</td>\n",
       "      <td>0</td>\n",
       "      <td>0</td>\n",
       "      <td>0</td>\n",
       "      <td>0</td>\n",
       "      <td>0</td>\n",
       "      <td>0</td>\n",
       "    </tr>\n",
       "    <tr>\n",
       "      <th>2</th>\n",
       "      <td>155000.0</td>\n",
       "      <td>9.0</td>\n",
       "      <td>1</td>\n",
       "      <td>225000.0</td>\n",
       "      <td>7</td>\n",
       "      <td>38</td>\n",
       "      <td>1</td>\n",
       "      <td>0</td>\n",
       "      <td>0</td>\n",
       "      <td>0</td>\n",
       "      <td>...</td>\n",
       "      <td>0</td>\n",
       "      <td>0</td>\n",
       "      <td>0</td>\n",
       "      <td>0</td>\n",
       "      <td>0</td>\n",
       "      <td>0</td>\n",
       "      <td>0</td>\n",
       "      <td>0</td>\n",
       "      <td>0</td>\n",
       "      <td>0</td>\n",
       "    </tr>\n",
       "    <tr>\n",
       "      <th>3</th>\n",
       "      <td>154000.0</td>\n",
       "      <td>11.0</td>\n",
       "      <td>1</td>\n",
       "      <td>300000.0</td>\n",
       "      <td>17</td>\n",
       "      <td>0</td>\n",
       "      <td>1</td>\n",
       "      <td>0</td>\n",
       "      <td>0</td>\n",
       "      <td>0</td>\n",
       "      <td>...</td>\n",
       "      <td>0</td>\n",
       "      <td>0</td>\n",
       "      <td>0</td>\n",
       "      <td>0</td>\n",
       "      <td>0</td>\n",
       "      <td>0</td>\n",
       "      <td>0</td>\n",
       "      <td>0</td>\n",
       "      <td>0</td>\n",
       "      <td>0</td>\n",
       "    </tr>\n",
       "    <tr>\n",
       "      <th>4</th>\n",
       "      <td>93000.0</td>\n",
       "      <td>9.0</td>\n",
       "      <td>1</td>\n",
       "      <td>162000.0</td>\n",
       "      <td>7</td>\n",
       "      <td>16</td>\n",
       "      <td>1</td>\n",
       "      <td>0</td>\n",
       "      <td>0</td>\n",
       "      <td>0</td>\n",
       "      <td>...</td>\n",
       "      <td>0</td>\n",
       "      <td>0</td>\n",
       "      <td>0</td>\n",
       "      <td>0</td>\n",
       "      <td>0</td>\n",
       "      <td>0</td>\n",
       "      <td>0</td>\n",
       "      <td>0</td>\n",
       "      <td>0</td>\n",
       "      <td>0</td>\n",
       "    </tr>\n",
       "    <tr>\n",
       "      <th>...</th>\n",
       "      <td>...</td>\n",
       "      <td>...</td>\n",
       "      <td>...</td>\n",
       "      <td>...</td>\n",
       "      <td>...</td>\n",
       "      <td>...</td>\n",
       "      <td>...</td>\n",
       "      <td>...</td>\n",
       "      <td>...</td>\n",
       "      <td>...</td>\n",
       "      <td>...</td>\n",
       "      <td>...</td>\n",
       "      <td>...</td>\n",
       "      <td>...</td>\n",
       "      <td>...</td>\n",
       "      <td>...</td>\n",
       "      <td>...</td>\n",
       "      <td>...</td>\n",
       "      <td>...</td>\n",
       "      <td>...</td>\n",
       "      <td>...</td>\n",
       "    </tr>\n",
       "    <tr>\n",
       "      <th>19091</th>\n",
       "      <td>163000.0</td>\n",
       "      <td>6.0</td>\n",
       "      <td>0</td>\n",
       "      <td>58000.0</td>\n",
       "      <td>17</td>\n",
       "      <td>0</td>\n",
       "      <td>1</td>\n",
       "      <td>0</td>\n",
       "      <td>0</td>\n",
       "      <td>0</td>\n",
       "      <td>...</td>\n",
       "      <td>0</td>\n",
       "      <td>0</td>\n",
       "      <td>0</td>\n",
       "      <td>0</td>\n",
       "      <td>0</td>\n",
       "      <td>0</td>\n",
       "      <td>0</td>\n",
       "      <td>0</td>\n",
       "      <td>0</td>\n",
       "      <td>0</td>\n",
       "    </tr>\n",
       "    <tr>\n",
       "      <th>19092</th>\n",
       "      <td>114000.0</td>\n",
       "      <td>9.0</td>\n",
       "      <td>1</td>\n",
       "      <td>180000.0</td>\n",
       "      <td>8</td>\n",
       "      <td>21</td>\n",
       "      <td>1</td>\n",
       "      <td>0</td>\n",
       "      <td>0</td>\n",
       "      <td>0</td>\n",
       "      <td>...</td>\n",
       "      <td>0</td>\n",
       "      <td>0</td>\n",
       "      <td>0</td>\n",
       "      <td>0</td>\n",
       "      <td>0</td>\n",
       "      <td>0</td>\n",
       "      <td>0</td>\n",
       "      <td>0</td>\n",
       "      <td>0</td>\n",
       "      <td>0</td>\n",
       "    </tr>\n",
       "    <tr>\n",
       "      <th>19093</th>\n",
       "      <td>140000.0</td>\n",
       "      <td>8.0</td>\n",
       "      <td>1</td>\n",
       "      <td>145000.0</td>\n",
       "      <td>7</td>\n",
       "      <td>14</td>\n",
       "      <td>1</td>\n",
       "      <td>0</td>\n",
       "      <td>0</td>\n",
       "      <td>0</td>\n",
       "      <td>...</td>\n",
       "      <td>0</td>\n",
       "      <td>0</td>\n",
       "      <td>0</td>\n",
       "      <td>0</td>\n",
       "      <td>0</td>\n",
       "      <td>0</td>\n",
       "      <td>0</td>\n",
       "      <td>0</td>\n",
       "      <td>0</td>\n",
       "      <td>0</td>\n",
       "    </tr>\n",
       "    <tr>\n",
       "      <th>19094</th>\n",
       "      <td>290000.0</td>\n",
       "      <td>12.0</td>\n",
       "      <td>1</td>\n",
       "      <td>180000.0</td>\n",
       "      <td>14</td>\n",
       "      <td>33</td>\n",
       "      <td>1</td>\n",
       "      <td>0</td>\n",
       "      <td>0</td>\n",
       "      <td>0</td>\n",
       "      <td>...</td>\n",
       "      <td>0</td>\n",
       "      <td>0</td>\n",
       "      <td>0</td>\n",
       "      <td>0</td>\n",
       "      <td>0</td>\n",
       "      <td>0</td>\n",
       "      <td>0</td>\n",
       "      <td>0</td>\n",
       "      <td>0</td>\n",
       "      <td>0</td>\n",
       "    </tr>\n",
       "    <tr>\n",
       "      <th>19095</th>\n",
       "      <td>129000.0</td>\n",
       "      <td>8.0</td>\n",
       "      <td>0</td>\n",
       "      <td>118000.0</td>\n",
       "      <td>10</td>\n",
       "      <td>13</td>\n",
       "      <td>1</td>\n",
       "      <td>0</td>\n",
       "      <td>0</td>\n",
       "      <td>0</td>\n",
       "      <td>...</td>\n",
       "      <td>0</td>\n",
       "      <td>0</td>\n",
       "      <td>0</td>\n",
       "      <td>0</td>\n",
       "      <td>0</td>\n",
       "      <td>0</td>\n",
       "      <td>0</td>\n",
       "      <td>0</td>\n",
       "      <td>0</td>\n",
       "      <td>0</td>\n",
       "    </tr>\n",
       "  </tbody>\n",
       "</table>\n",
       "<p>19096 rows × 607 columns</p>\n",
       "</div>"
      ],
      "text/plain": [
       "       Kilométrage  Puissance_fiscale  Première_main     Price  Age  \\\n",
       "0         300000.0                7.0              0   45000.0   21   \n",
       "1          70000.0                6.0              1  158000.0    2   \n",
       "2         155000.0                9.0              1  225000.0    7   \n",
       "3         154000.0               11.0              1  300000.0   17   \n",
       "4          93000.0                9.0              1  162000.0    7   \n",
       "...            ...                ...            ...       ...  ...   \n",
       "19091     163000.0                6.0              0   58000.0   17   \n",
       "19092     114000.0                9.0              1  180000.0    8   \n",
       "19093     140000.0                8.0              1  145000.0    7   \n",
       "19094     290000.0               12.0              1  180000.0   14   \n",
       "19095     129000.0                8.0              0  118000.0   10   \n",
       "\n",
       "       N_features  Power_Diesel  Power_Electrique  Power_Essence  \\\n",
       "0               5             1                 0              0   \n",
       "1              31             1                 0              0   \n",
       "2              38             1                 0              0   \n",
       "3               0             1                 0              0   \n",
       "4              16             1                 0              0   \n",
       "...           ...           ...               ...            ...   \n",
       "19091           0             1                 0              0   \n",
       "19092          21             1                 0              0   \n",
       "19093          14             1                 0              0   \n",
       "19094          33             1                 0              0   \n",
       "19095          13             1                 0              0   \n",
       "\n",
       "       Power_Hybride  ...  Model_Xlv  Model_Xsara  Model_Xsara picasso  \\\n",
       "0                  0  ...          0            0                    0   \n",
       "1                  0  ...          0            0                    0   \n",
       "2                  0  ...          0            0                    0   \n",
       "3                  0  ...          0            0                    0   \n",
       "4                  0  ...          0            0                    0   \n",
       "...              ...  ...        ...          ...                  ...   \n",
       "19091              0  ...          0            0                    0   \n",
       "19092              0  ...          0            0                    0   \n",
       "19093              0  ...          0            0                    0   \n",
       "19094              0  ...          0            0                    0   \n",
       "19095              0  ...          0            0                    0   \n",
       "\n",
       "       Model_Yaris  Model_Yaris cross  Model_Yeti  Model_Ypsilon  Model_Yrv  \\\n",
       "0                0                  0           0              0          0   \n",
       "1                0                  0           0              0          0   \n",
       "2                0                  0           0              0          0   \n",
       "3                0                  0           0              0          0   \n",
       "4                0                  0           0              0          0   \n",
       "...            ...                ...         ...            ...        ...   \n",
       "19091            0                  0           0              0          0   \n",
       "19092            0                  0           0              0          0   \n",
       "19093            0                  0           0              0          0   \n",
       "19094            0                  0           0              0          0   \n",
       "19095            0                  0           0              0          0   \n",
       "\n",
       "       Model_Zafira  Model_Zx  \n",
       "0                 0         0  \n",
       "1                 0         0  \n",
       "2                 0         0  \n",
       "3                 0         0  \n",
       "4                 0         0  \n",
       "...             ...       ...  \n",
       "19091             0         0  \n",
       "19092             0         0  \n",
       "19093             0         0  \n",
       "19094             0         0  \n",
       "19095             0         0  \n",
       "\n",
       "[19096 rows x 607 columns]"
      ]
     },
     "execution_count": 3,
     "metadata": {},
     "output_type": "execute_result"
    }
   ],
   "source": [
    "onehot_df=pd.get_dummies(df)\n",
    "onehot_df"
   ]
  },
  {
   "cell_type": "code",
   "execution_count": 23,
   "id": "68659f90",
   "metadata": {},
   "outputs": [
    {
     "data": {
      "text/plain": [
       "array([[ 1.82887466],\n",
       "       [-1.0246454 ],\n",
       "       [ 0.02991636],\n",
       "       ...,\n",
       "       [-0.15618277],\n",
       "       [ 1.70480857],\n",
       "       [-0.29265547]])"
      ]
     },
     "execution_count": 23,
     "metadata": {},
     "output_type": "execute_result"
    }
   ],
   "source": [
    "scaler=StandardScaler()\n",
    "scaled_kilom=scaler.fit_transform(df[[\"Kilométrage\"]])\n",
    "scaled_kilom"
   ]
  },
  {
   "cell_type": "code",
   "execution_count": 26,
   "id": "78f76456",
   "metadata": {},
   "outputs": [
    {
     "data": {
      "text/plain": [
       "array([[ 1.82887466, -0.20807683, -0.78336171, ..., -0.01772853,\n",
       "        -0.02895815, -0.00723669],\n",
       "       [-1.0246454 , -0.81993936,  1.2765495 , ..., -0.01772853,\n",
       "        -0.02895815, -0.00723669],\n",
       "       [ 0.02991636,  1.01564821,  1.2765495 , ..., -0.01772853,\n",
       "        -0.02895815, -0.00723669],\n",
       "       ...,\n",
       "       [-0.15618277,  0.40378569,  1.2765495 , ..., -0.01772853,\n",
       "        -0.02895815, -0.00723669],\n",
       "       [ 1.70480857,  2.85123579,  1.2765495 , ..., -0.01772853,\n",
       "        -0.02895815, -0.00723669],\n",
       "       [-0.29265547,  0.40378569, -0.78336171, ..., -0.01772853,\n",
       "        -0.02895815, -0.00723669]])"
      ]
     },
     "execution_count": 26,
     "metadata": {},
     "output_type": "execute_result"
    }
   ],
   "source": [
    "# define predictor(X) and target(Y)\n",
    "X=onehot_df.drop(columns=\"Price\")\n",
    "\n",
    "Scaled_X=StandardScaler().fit_transform(X)\n",
    "Y=onehot_df[\"Price\"]\n",
    "\n",
    "Scaled_X"
   ]
  },
  {
   "cell_type": "code",
   "execution_count": 59,
   "id": "e35365b5",
   "metadata": {},
   "outputs": [
    {
     "name": "stdout",
     "output_type": "stream",
     "text": [
      "(13367, 606) (13367,) (5729, 606) (5729,)\n"
     ]
    }
   ],
   "source": [
    "# define train and test data \n",
    "x_train,x_test,y_train,y_test=train_test_split(X,Y,test_size=0.3,random_state=123)\n",
    "print(x_train.shape,\n",
    "      y_train.shape,\n",
    "      x_test.shape,\n",
    "      y_test.shape)"
   ]
  },
  {
   "cell_type": "code",
   "execution_count": 61,
   "id": "51ae2292",
   "metadata": {},
   "outputs": [],
   "source": [
    "model_=[]\n",
    "score=[]\n",
    "def predict(ml_model):\n",
    "    print('Model is: {}'.format(ml_model))\n",
    "    model= ml_model.fit(x_train,y_train)\n",
    "    print(\"Training score: {}\".format(model.score(x_train,y_train)))\n",
    "    predictions = model.predict(x_test)\n",
    "    print(\"Predictions are: {}\".format(predictions[0:5]))\n",
    "    print('\\n')\n",
    "    r2score=r2_score(y_test,predictions) \n",
    "    print(\"r2 score is: {}\".format(r2score))\n",
    "          \n",
    "    print('MAE:{}'.format(mse(y_test,predictions)))\n",
    "    print('MSE:{}'.format(mse(y_test,predictions)))\n",
    "    print('RMSE:{}'.format(np.sqrt(mse(y_test,predictions))))\n",
    "    model_.append(type(ml_model).__name__)\n",
    "    score.append(np.round(r2score,2))\n",
    "    \n",
    "     \n",
    "    sns.distplot(y_test-predictions)   "
   ]
  },
  {
   "cell_type": "markdown",
   "id": "1fa063a7",
   "metadata": {},
   "source": [
    "### Linear Regression"
   ]
  },
  {
   "cell_type": "code",
   "execution_count": null,
   "id": "2ec4c63d",
   "metadata": {},
   "outputs": [],
   "source": [
    "lr=LinearRegression()\n",
    "predict(lr)"
   ]
  },
  {
   "cell_type": "code",
   "execution_count": null,
   "id": "b2ebb3eb",
   "metadata": {},
   "outputs": [],
   "source": [
    "lor=LogisticRegression()#,Ridge,Lasso\n",
    "predict(lor)"
   ]
  },
  {
   "cell_type": "code",
   "execution_count": null,
   "id": "af8a9933",
   "metadata": {},
   "outputs": [],
   "source": [
    "rr=Ridge()\n",
    "predict(rr)"
   ]
  },
  {
   "cell_type": "code",
   "execution_count": null,
   "id": "b15d30fa",
   "metadata": {},
   "outputs": [],
   "source": [
    "las=Lasso()\n",
    "predict(las)"
   ]
  },
  {
   "cell_type": "code",
   "execution_count": null,
   "id": "667ea1ed",
   "metadata": {},
   "outputs": [],
   "source": [
    "dtr=DecisionTreeRegressor()\n",
    "predict(dtr)"
   ]
  },
  {
   "cell_type": "code",
   "execution_count": null,
   "id": "f93e831e",
   "metadata": {},
   "outputs": [],
   "source": [
    "rfr=RandomForestRegressor()\n",
    "predict(rfr)"
   ]
  },
  {
   "cell_type": "code",
   "execution_count": null,
   "id": "68420234",
   "metadata": {},
   "outputs": [],
   "source": [
    "svr=svm.SVR()\n",
    "predict(svr)"
   ]
  },
  {
   "cell_type": "code",
   "execution_count": null,
   "id": "17b5f293",
   "metadata": {},
   "outputs": [],
   "source": [
    "gbr=GradientBoostingRegressor()\n",
    "predict(gbr)"
   ]
  },
  {
   "cell_type": "code",
   "execution_count": null,
   "id": "4bbc085f",
   "metadata": {},
   "outputs": [],
   "source": [
    "abr=AdaBoostRegressor()\n",
    "predict(abr)"
   ]
  },
  {
   "cell_type": "code",
   "execution_count": null,
   "id": "32d8468d",
   "metadata": {},
   "outputs": [],
   "source": [
    "hgbr=HistGradientBoostingRegressor()\n",
    "predict(hgbr)"
   ]
  },
  {
   "cell_type": "code",
   "execution_count": null,
   "id": "ea17f37b",
   "metadata": {},
   "outputs": [],
   "source": [
    "knnr=KNeighborsRegressor()\n",
    "predict(knnr)"
   ]
  },
  {
   "cell_type": "code",
   "execution_count": null,
   "id": "b10652bb",
   "metadata": {},
   "outputs": [],
   "source": [
    "mlpr=MLPRegressor()\n",
    "predict(mlpr)"
   ]
  },
  {
   "cell_type": "code",
   "execution_count": null,
   "id": "02705323",
   "metadata": {},
   "outputs": [],
   "source": [
    "xgbr=XGBRegressor(tree_method=\"hist\")\n",
    "predict(xgbr)"
   ]
  },
  {
   "cell_type": "markdown",
   "id": "22f8d658",
   "metadata": {},
   "source": [
    "# Cross Validation"
   ]
  },
  {
   "cell_type": "code",
   "execution_count": null,
   "id": "9feaa9d0",
   "metadata": {},
   "outputs": [],
   "source": [
    "def cross_val(model,folds):\n",
    "    print(\" the model is :\",type(model).__name__)\n",
    "    scores=cross_val_score(estimator=model,X=X,y=Y,cv=folds,scoring=\"r2\",n_jobs=-1)\n",
    "    print(\"The validation score is\",scores.mean())\n",
    "    predictions=cross_val_predict(estimator=model,X=X,y=Y,cv=folds,n_jobs=-1)\n",
    "    ax=sns.distplot(Y-predictions)\n",
    "    return ax"
   ]
  },
  {
   "cell_type": "code",
   "execution_count": null,
   "id": "92f8db21",
   "metadata": {},
   "outputs": [],
   "source": [
    "cross_val(xgbr,5)"
   ]
  },
  {
   "cell_type": "code",
   "execution_count": null,
   "id": "7f857035",
   "metadata": {},
   "outputs": [],
   "source": [
    "cross_val(gbr,4)"
   ]
  },
  {
   "cell_type": "code",
   "execution_count": null,
   "id": "000d6c6d",
   "metadata": {},
   "outputs": [],
   "source": [
    "cross_val(hgbr,4)"
   ]
  },
  {
   "cell_type": "code",
   "execution_count": null,
   "id": "7d50bf80",
   "metadata": {},
   "outputs": [],
   "source": [
    "cross_val(rfr,4)"
   ]
  },
  {
   "cell_type": "markdown",
   "id": "f32f6c7c",
   "metadata": {},
   "source": [
    "# Hyper Tunning "
   ]
  },
  {
   "cell_type": "markdown",
   "id": "a3672a82",
   "metadata": {},
   "source": [
    "#### Manual hypertunning:"
   ]
  },
  {
   "cell_type": "code",
   "execution_count": null,
   "id": "e9c2e710",
   "metadata": {},
   "outputs": [],
   "source": [
    "xgb_param=XGBRegressor(\n",
    "                        colsample_bytree=0.932,\n",
    "                        colsample_bylevel=0.932,\n",
    "                        colsample_bynode=0.932,\n",
    "                        subsample=1,\n",
    "                        tree_method=\"hist\",\n",
    "                        #max_delta_step=0,\n",
    "                        max_depth=4,\n",
    "                        learning_rate=0.40,\n",
    "                        reg_alpha=0.95,\n",
    "                        reg_lambda=0.95,\n",
    "                        n_estimators=600,#,800,900,1000],#,800,900,1000],\n",
    "                        min_child_weight=3,\n",
    "                        random_state=123\n",
    "                        )\n",
    "predict(xgb_param)"
   ]
  },
  {
   "cell_type": "markdown",
   "id": "c007bf29",
   "metadata": {},
   "source": [
    "#### RandomizedSearchCV"
   ]
  },
  {
   "cell_type": "code",
   "execution_count": null,
   "id": "949cfb2b",
   "metadata": {},
   "outputs": [],
   "source": [
    "def hyper_tunning(model,params):\n",
    "    rscv=RandomizedSearchCV(estimator=model,\n",
    "                           param_distributions=params,\n",
    "                          n_iter=200,cv=3,\n",
    "                          random_state=123,\n",
    "                          n_jobs=-1)\n",
    "    prediction=predict(rscv)\n",
    "    return prediction,\"best parameters:\",rscv.best_params_\n",
    "\n",
    "\n"
   ]
  },
  {
   "cell_type": "markdown",
   "id": "dbe71866",
   "metadata": {},
   "source": [
    "### Hist Gradient Boosting Regressor"
   ]
  },
  {
   "cell_type": "code",
   "execution_count": null,
   "id": "c079273c",
   "metadata": {},
   "outputs": [],
   "source": [
    "\n",
    "param={\"learning_rate\":[0,0.1,0.2,0.3,0.4,0.6,0.5,0.7,0.8,0.9,1],\n",
    "       \"loss\":['squared_error', 'absolute_error', 'poisson', 'quantile'],\n",
    "      \"l2_regularization\":[0,0.1,0.2,0.3,0.4,0.5,0.6,0.7,0.8,0.9,1],\n",
    "      \"max_depth\":[1,2,3,4,5,6,7,8,9,10],\n",
    "       \"max_leaf_nodes\":[25,26,27,28,29,30,31,32,33,34,35],\n",
    "       \"max_iter\":[80,90,100,110,120],\n",
    "       \"max_bins\":[250,255,260],\n",
    "       \"n_iter_no_change\":[10,20,30]\n",
    "       \n",
    "       \n",
    "      }\n",
    "hgbr=HistGradientBoostingRegressor(random_state=123)\n",
    "hyper_tunning(hgbr,param)"
   ]
  },
  {
   "cell_type": "markdown",
   "id": "cf230f31",
   "metadata": {},
   "source": [
    "## X Gradient Boosting Regressor"
   ]
  },
  {
   "cell_type": "code",
   "execution_count": 63,
   "id": "866f8d92",
   "metadata": {},
   "outputs": [
    {
     "data": {
      "text/plain": [
       "array([0. , 0.1, 0.2, 0.3, 0.4, 0.5, 0.6, 0.7, 0.8, 0.9])"
      ]
     },
     "execution_count": 63,
     "metadata": {},
     "output_type": "execute_result"
    }
   ],
   "source": [
    "val=np.arange(0,6,0.99)\n",
    "val"
   ]
  },
  {
   "cell_type": "code",
   "execution_count": 79,
   "id": "24fc2dc0",
   "metadata": {},
   "outputs": [],
   "source": [
    "xgbr_param={\n",
    "       #\"booster\":[\"gbtree\", \"gblinear\",\"dart\"],\n",
    "       #\"objective\":[\"reg:squarederror\",\"reg:squaredlogerror\",\"reg:absoluteerror\"],\n",
    "       \"colsample_bytree\":val,\n",
    "       \"colsample_bylevel\":val,\n",
    "       \"colsample_bynode\":val,\n",
    "       \"reg_alpha\":val,\n",
    "       \"reg_lambda\":val,\n",
    "       \"subsample\":val,\n",
    "       \"gamma\":[0,1,2,3],#,4,5],\n",
    "       \"learning_rate\":[0.3,0.31,0.32,0.33,0.34,0.35,0.36,0.37,0.38,0.39,0.4,0.42,0.45],#to 0.3\n",
    "       #\"max_delta_step\":[1,2,3,4],#5,6,7],\n",
    "       \"max_depth\":[1,2,3,4,5,6],#5,6,7,8],\n",
    "       #\"max_bin\":[10,20,30],\n",
    "       \"n_estimators\":[500,520,550,570,590,600,700,800],#900,1000],#,800,900,1000],\n",
    "       #\"min_child_weight\":[1,2,3,4,5],\n",
    "       #\"max_cat_threshold\":[1,5,10]\n",
    "        }\n",
    "#xgbr=XGBRegressor(tree_method=\"hist\")"
   ]
  },
  {
   "cell_type": "code",
   "execution_count": null,
   "id": "a24322ae",
   "metadata": {},
   "outputs": [],
   "source": [
    "hyper_tunning(xgbr,param)"
   ]
  },
  {
   "cell_type": "markdown",
   "id": "b3f389fd",
   "metadata": {},
   "source": [
    "### Random Forest Regressor"
   ]
  },
  {
   "cell_type": "code",
   "execution_count": null,
   "id": "3d52a162",
   "metadata": {},
   "outputs": [],
   "source": [
    "rfr=RandomForestRegressor()\n",
    "param={\"n_estimators\":[100,200,300,400],\n",
    "    \"criterion\":['squared_error',\"absolute_error\", \"friedman_mse\", \"poisson\"],\n",
    "    \"max_depth\":[1,2,3,4,5],\n",
    "    \"min_samples_split\":[2,3,4,5,6],\n",
    "    \"min_samples_leaf\":[1,2,3,4,5],\n",
    "    \"min_weight_fraction_leaf\":[0.0,0.1,0.2,0.3],\n",
    "    \"max_features\":[1.0,2,3,4,5,6],\n",
    "    \"max_leaf_nodes\":[0,1,2,3],\n",
    "    \"ccp_alpha\":[0.0,0.2,0.1,0.3,0.4],\n",
    "    \"max_samples\":[0,1,2,3,4]}\n",
    "#hyper_tunning(rfr,param)"
   ]
  },
  {
   "cell_type": "markdown",
   "id": "ba57f6ad",
   "metadata": {},
   "source": [
    "## Hyper tunning using Bayesian Optmization"
   ]
  },
  {
   "cell_type": "code",
   "execution_count": null,
   "id": "5735c507",
   "metadata": {},
   "outputs": [],
   "source": [
    "params={\"n_estimators\":(100,600),\n",
    "       #\"ccp_alpha\":[0,0.9],\n",
    "        #\"max_depth\":(1,6)\n",
    "       }\n",
    "params"
   ]
  },
  {
   "cell_type": "code",
   "execution_count": null,
   "id": "71c74063",
   "metadata": {},
   "outputs": [],
   "source": [
    "def objective(n_estimators):\n",
    "  # Train a model with the given hyperparameters.\n",
    "  rfr=RandomForestRegressor(n_estimators=int(n_estimators))\n",
    "  rfr.fit(x_train, y_train)\n",
    "\n",
    "  # Evaluate the model on the test set.\n",
    "  predictions=rfr.predict(x_test)\n",
    "  error = r2_score(predictions,y_test)\n",
    "\n",
    "  return error\n",
    "\n",
    "optimizer = BayesianOptimization(f=objective, pbounds=params,\n",
    "                                random_state=123)\n",
    "\n",
    "optimizer.maximize(n_iter=10)"
   ]
  },
  {
   "cell_type": "code",
   "execution_count": null,
   "id": "0432a5eb",
   "metadata": {},
   "outputs": [],
   "source": [
    "optimizer.max[\"params\"]"
   ]
  },
  {
   "cell_type": "code",
   "execution_count": null,
   "id": "9443f5be",
   "metadata": {},
   "outputs": [],
   "source": [
    "optimizer.max[\"target\"]"
   ]
  },
  {
   "cell_type": "markdown",
   "id": "1600e2af",
   "metadata": {},
   "source": [
    "### Using GridSearchCV"
   ]
  },
  {
   "cell_type": "code",
   "execution_count": 77,
   "id": "ed3cc287",
   "metadata": {},
   "outputs": [],
   "source": [
    "def grid_search(model,params):\n",
    "    rs_cv=GridSearchCV(model,params,cv=4,\n",
    "                       scoring=\"neg_mean_squared_error\")\n",
    "    \n",
    "    return predict(rs_cv),print(\"best parameters are:\",rs_cv.best_params_)\n"
   ]
  },
  {
   "cell_type": "code",
   "execution_count": 80,
   "id": "19d821dd",
   "metadata": {},
   "outputs": [
    {
     "name": "stdout",
     "output_type": "stream",
     "text": [
      "Model is: GridSearchCV(cv=4,\n",
      "             estimator=XGBRegressor(base_score=None, booster=None,\n",
      "                                    callbacks=None, colsample_bylevel=None,\n",
      "                                    colsample_bynode=None,\n",
      "                                    colsample_bytree=None,\n",
      "                                    early_stopping_rounds=None,\n",
      "                                    enable_categorical=False, eval_metric=None,\n",
      "                                    feature_types=None, gamma=None, gpu_id=None,\n",
      "                                    grow_policy=None, importance_type=None,\n",
      "                                    interaction_constraints=None,\n",
      "                                    learning_rate=None, m...\n",
      "                         'learning_rate': [0.3, 0.31, 0.32, 0.33, 0.34, 0.35,\n",
      "                                           0.36, 0.37, 0.38, 0.39, 0.4, 0.42,\n",
      "                                           0.45],\n",
      "                         'max_depth': [1, 2, 3, 4, 5, 6],\n",
      "                         'n_estimators': [500, 520, 550, 570, 590, 600, 700,\n",
      "                                          800],\n",
      "                         'reg_alpha': array([0. , 0.1, 0.2, 0.3, 0.4, 0.5, 0.6, 0.7, 0.8, 0.9]),\n",
      "                         'reg_lambda': array([0. , 0.1, 0.2, 0.3, 0.4, 0.5, 0.6, 0.7, 0.8, 0.9]),\n",
      "                         'subsample': array([0. , 0.1, 0.2, 0.3, 0.4, 0.5, 0.6, 0.7, 0.8, 0.9])},\n",
      "             scoring='neg_mean_squared_error')\n"
     ]
    },
    {
     "ename": "MemoryError",
     "evalue": "",
     "output_type": "error",
     "traceback": [
      "\u001b[1;31m---------------------------------------------------------------------------\u001b[0m",
      "\u001b[1;31mMemoryError\u001b[0m                               Traceback (most recent call last)",
      "Cell \u001b[1;32mIn[80], line 1\u001b[0m\n\u001b[1;32m----> 1\u001b[0m \u001b[43mgrid_search\u001b[49m\u001b[43m(\u001b[49m\u001b[43mXGBRegressor\u001b[49m\u001b[43m(\u001b[49m\u001b[43m)\u001b[49m\u001b[43m,\u001b[49m\u001b[43mxgbr_param\u001b[49m\u001b[43m)\u001b[49m\n",
      "Cell \u001b[1;32mIn[77], line 5\u001b[0m, in \u001b[0;36mgrid_search\u001b[1;34m(model, params)\u001b[0m\n\u001b[0;32m      1\u001b[0m \u001b[38;5;28;01mdef\u001b[39;00m \u001b[38;5;21mgrid_search\u001b[39m(model,params):\n\u001b[0;32m      2\u001b[0m     rs_cv\u001b[38;5;241m=\u001b[39mGridSearchCV(model,params,cv\u001b[38;5;241m=\u001b[39m\u001b[38;5;241m4\u001b[39m,\n\u001b[0;32m      3\u001b[0m                        scoring\u001b[38;5;241m=\u001b[39m\u001b[38;5;124m\"\u001b[39m\u001b[38;5;124mneg_mean_squared_error\u001b[39m\u001b[38;5;124m\"\u001b[39m)\n\u001b[1;32m----> 5\u001b[0m     \u001b[38;5;28;01mreturn\u001b[39;00m \u001b[43mpredict\u001b[49m\u001b[43m(\u001b[49m\u001b[43mrs_cv\u001b[49m\u001b[43m)\u001b[49m,\u001b[38;5;28mprint\u001b[39m(\u001b[38;5;124m\"\u001b[39m\u001b[38;5;124mbest parameters are:\u001b[39m\u001b[38;5;124m\"\u001b[39m,rs_cv\u001b[38;5;241m.\u001b[39mbest_params_)\n",
      "Cell \u001b[1;32mIn[61], line 5\u001b[0m, in \u001b[0;36mpredict\u001b[1;34m(ml_model)\u001b[0m\n\u001b[0;32m      3\u001b[0m \u001b[38;5;28;01mdef\u001b[39;00m \u001b[38;5;21mpredict\u001b[39m(ml_model):\n\u001b[0;32m      4\u001b[0m     \u001b[38;5;28mprint\u001b[39m(\u001b[38;5;124m'\u001b[39m\u001b[38;5;124mModel is: \u001b[39m\u001b[38;5;132;01m{}\u001b[39;00m\u001b[38;5;124m'\u001b[39m\u001b[38;5;241m.\u001b[39mformat(ml_model))\n\u001b[1;32m----> 5\u001b[0m     model\u001b[38;5;241m=\u001b[39m \u001b[43mml_model\u001b[49m\u001b[38;5;241;43m.\u001b[39;49m\u001b[43mfit\u001b[49m\u001b[43m(\u001b[49m\u001b[43mx_train\u001b[49m\u001b[43m,\u001b[49m\u001b[43my_train\u001b[49m\u001b[43m)\u001b[49m\n\u001b[0;32m      6\u001b[0m     \u001b[38;5;28mprint\u001b[39m(\u001b[38;5;124m\"\u001b[39m\u001b[38;5;124mTraining score: \u001b[39m\u001b[38;5;132;01m{}\u001b[39;00m\u001b[38;5;124m\"\u001b[39m\u001b[38;5;241m.\u001b[39mformat(model\u001b[38;5;241m.\u001b[39mscore(x_train,y_train)))\n\u001b[0;32m      7\u001b[0m     predictions \u001b[38;5;241m=\u001b[39m model\u001b[38;5;241m.\u001b[39mpredict(x_test)\n",
      "File \u001b[1;32mC:\\Users\\Conda3\\lib\\site-packages\\sklearn\\model_selection\\_search.py:874\u001b[0m, in \u001b[0;36mBaseSearchCV.fit\u001b[1;34m(self, X, y, groups, **fit_params)\u001b[0m\n\u001b[0;32m    868\u001b[0m     results \u001b[38;5;241m=\u001b[39m \u001b[38;5;28mself\u001b[39m\u001b[38;5;241m.\u001b[39m_format_results(\n\u001b[0;32m    869\u001b[0m         all_candidate_params, n_splits, all_out, all_more_results\n\u001b[0;32m    870\u001b[0m     )\n\u001b[0;32m    872\u001b[0m     \u001b[38;5;28;01mreturn\u001b[39;00m results\n\u001b[1;32m--> 874\u001b[0m \u001b[38;5;28;43mself\u001b[39;49m\u001b[38;5;241;43m.\u001b[39;49m\u001b[43m_run_search\u001b[49m\u001b[43m(\u001b[49m\u001b[43mevaluate_candidates\u001b[49m\u001b[43m)\u001b[49m\n\u001b[0;32m    876\u001b[0m \u001b[38;5;66;03m# multimetric is determined here because in the case of a callable\u001b[39;00m\n\u001b[0;32m    877\u001b[0m \u001b[38;5;66;03m# self.scoring the return type is only known after calling\u001b[39;00m\n\u001b[0;32m    878\u001b[0m first_test_score \u001b[38;5;241m=\u001b[39m all_out[\u001b[38;5;241m0\u001b[39m][\u001b[38;5;124m\"\u001b[39m\u001b[38;5;124mtest_scores\u001b[39m\u001b[38;5;124m\"\u001b[39m]\n",
      "File \u001b[1;32mC:\\Users\\Conda3\\lib\\site-packages\\sklearn\\model_selection\\_search.py:1388\u001b[0m, in \u001b[0;36mGridSearchCV._run_search\u001b[1;34m(self, evaluate_candidates)\u001b[0m\n\u001b[0;32m   1386\u001b[0m \u001b[38;5;28;01mdef\u001b[39;00m \u001b[38;5;21m_run_search\u001b[39m(\u001b[38;5;28mself\u001b[39m, evaluate_candidates):\n\u001b[0;32m   1387\u001b[0m \u001b[38;5;250m    \u001b[39m\u001b[38;5;124;03m\"\"\"Search all candidates in param_grid\"\"\"\u001b[39;00m\n\u001b[1;32m-> 1388\u001b[0m     \u001b[43mevaluate_candidates\u001b[49m\u001b[43m(\u001b[49m\u001b[43mParameterGrid\u001b[49m\u001b[43m(\u001b[49m\u001b[38;5;28;43mself\u001b[39;49m\u001b[38;5;241;43m.\u001b[39;49m\u001b[43mparam_grid\u001b[49m\u001b[43m)\u001b[49m\u001b[43m)\u001b[49m\n",
      "File \u001b[1;32mC:\\Users\\Conda3\\lib\\site-packages\\sklearn\\model_selection\\_search.py:810\u001b[0m, in \u001b[0;36mBaseSearchCV.fit.<locals>.evaluate_candidates\u001b[1;34m(candidate_params, cv, more_results)\u001b[0m\n\u001b[0;32m    808\u001b[0m \u001b[38;5;28;01mdef\u001b[39;00m \u001b[38;5;21mevaluate_candidates\u001b[39m(candidate_params, cv\u001b[38;5;241m=\u001b[39m\u001b[38;5;28;01mNone\u001b[39;00m, more_results\u001b[38;5;241m=\u001b[39m\u001b[38;5;28;01mNone\u001b[39;00m):\n\u001b[0;32m    809\u001b[0m     cv \u001b[38;5;241m=\u001b[39m cv \u001b[38;5;129;01mor\u001b[39;00m cv_orig\n\u001b[1;32m--> 810\u001b[0m     candidate_params \u001b[38;5;241m=\u001b[39m \u001b[38;5;28;43mlist\u001b[39;49m\u001b[43m(\u001b[49m\u001b[43mcandidate_params\u001b[49m\u001b[43m)\u001b[49m\n\u001b[0;32m    811\u001b[0m     n_candidates \u001b[38;5;241m=\u001b[39m \u001b[38;5;28mlen\u001b[39m(candidate_params)\n\u001b[0;32m    813\u001b[0m     \u001b[38;5;28;01mif\u001b[39;00m \u001b[38;5;28mself\u001b[39m\u001b[38;5;241m.\u001b[39mverbose \u001b[38;5;241m>\u001b[39m \u001b[38;5;241m0\u001b[39m:\n",
      "File \u001b[1;32mC:\\Users\\Conda3\\lib\\site-packages\\sklearn\\model_selection\\_search.py:148\u001b[0m, in \u001b[0;36mParameterGrid.__iter__\u001b[1;34m(self)\u001b[0m\n\u001b[0;32m    146\u001b[0m keys, values \u001b[38;5;241m=\u001b[39m \u001b[38;5;28mzip\u001b[39m(\u001b[38;5;241m*\u001b[39mitems)\n\u001b[0;32m    147\u001b[0m \u001b[38;5;28;01mfor\u001b[39;00m v \u001b[38;5;129;01min\u001b[39;00m product(\u001b[38;5;241m*\u001b[39mvalues):\n\u001b[1;32m--> 148\u001b[0m     params \u001b[38;5;241m=\u001b[39m \u001b[38;5;28;43mdict\u001b[39;49m\u001b[43m(\u001b[49m\u001b[38;5;28;43mzip\u001b[39;49m\u001b[43m(\u001b[49m\u001b[43mkeys\u001b[49m\u001b[43m,\u001b[49m\u001b[43m \u001b[49m\u001b[43mv\u001b[49m\u001b[43m)\u001b[49m\u001b[43m)\u001b[49m\n\u001b[0;32m    149\u001b[0m     \u001b[38;5;28;01myield\u001b[39;00m params\n",
      "\u001b[1;31mMemoryError\u001b[0m: "
     ]
    }
   ],
   "source": [
    "grid_search(XGBRegressor(),xgbr_param)"
   ]
  },
  {
   "cell_type": "code",
   "execution_count": 73,
   "id": "a52ae143",
   "metadata": {},
   "outputs": [
    {
     "ename": "NameError",
     "evalue": "name 'rs_cv' is not defined",
     "output_type": "error",
     "traceback": [
      "\u001b[1;31m---------------------------------------------------------------------------\u001b[0m",
      "\u001b[1;31mNameError\u001b[0m                                 Traceback (most recent call last)",
      "Cell \u001b[1;32mIn[73], line 1\u001b[0m\n\u001b[1;32m----> 1\u001b[0m \u001b[43mrs_cv\u001b[49m\u001b[38;5;241m.\u001b[39mbest_params_\n",
      "\u001b[1;31mNameError\u001b[0m: name 'rs_cv' is not defined"
     ]
    }
   ],
   "source": []
  },
  {
   "cell_type": "code",
   "execution_count": null,
   "id": "0d660518",
   "metadata": {},
   "outputs": [],
   "source": []
  },
  {
   "cell_type": "code",
   "execution_count": null,
   "id": "015fe589",
   "metadata": {},
   "outputs": [],
   "source": []
  },
  {
   "cell_type": "code",
   "execution_count": null,
   "id": "ba78b842",
   "metadata": {},
   "outputs": [],
   "source": []
  },
  {
   "cell_type": "code",
   "execution_count": null,
   "id": "f8b074b1",
   "metadata": {},
   "outputs": [],
   "source": []
  },
  {
   "cell_type": "code",
   "execution_count": null,
   "id": "dc995a72",
   "metadata": {},
   "outputs": [],
   "source": []
  },
  {
   "cell_type": "code",
   "execution_count": null,
   "id": "0e80f7ff",
   "metadata": {},
   "outputs": [],
   "source": []
  },
  {
   "cell_type": "code",
   "execution_count": null,
   "id": "993a63cc",
   "metadata": {},
   "outputs": [],
   "source": []
  },
  {
   "cell_type": "code",
   "execution_count": null,
   "id": "20a5786e",
   "metadata": {},
   "outputs": [],
   "source": []
  },
  {
   "cell_type": "code",
   "execution_count": null,
   "id": "8266946c",
   "metadata": {},
   "outputs": [],
   "source": []
  },
  {
   "cell_type": "code",
   "execution_count": null,
   "id": "8b870950",
   "metadata": {},
   "outputs": [],
   "source": []
  },
  {
   "cell_type": "code",
   "execution_count": null,
   "id": "1ed0a7af",
   "metadata": {},
   "outputs": [],
   "source": []
  },
  {
   "cell_type": "code",
   "execution_count": null,
   "id": "27225300",
   "metadata": {},
   "outputs": [],
   "source": []
  },
  {
   "cell_type": "code",
   "execution_count": null,
   "id": "3eec5c9d",
   "metadata": {},
   "outputs": [],
   "source": []
  },
  {
   "cell_type": "code",
   "execution_count": null,
   "id": "b5c736de",
   "metadata": {},
   "outputs": [],
   "source": []
  },
  {
   "cell_type": "code",
   "execution_count": null,
   "id": "1bea3728",
   "metadata": {},
   "outputs": [],
   "source": [
    "all_columns=set(onehot_df.columns)"
   ]
  },
  {
   "cell_type": "code",
   "execution_count": null,
   "id": "8be206a5",
   "metadata": {},
   "outputs": [],
   "source": [
    "my_car=pd.DataFrame({'Power':\"Diesel\", 'Kilométrage':120000, 'Boite_de_vitesses':\"Manuelle\", 'Puissance_fiscale':6,\n",
    "       'Première_main':0, 'Carrosserie':\"Hatchback\", 'Mark':\"FORD\",'Model':'Focus', 'Age':7,\n",
    "       'N_features':12},index=[0])\n",
    "my_car.index"
   ]
  },
  {
   "cell_type": "code",
   "execution_count": null,
   "id": "08450617",
   "metadata": {},
   "outputs": [],
   "source": [
    "def add_col(test_data,trained_data=onehot_df):\n",
    "    all_columns=set(trained_data.columns)\n",
    "    test_data_dummies=pd.get_dummies(test_data)\n",
    "    test_columns=test_data_dummies.columns\n",
    "    diff_columns=all_columns.difference(test_columns)\n",
    "    needed_col=pd.DataFrame(dict(zip(diff_columns,np.zeros(len(diff_columns)))),\n",
    "                            index=test_data.index)\n",
    "    final_df=pd.concat([test_data,needed_col],axis=1)\n",
    "    #final_df=final_df[trained_data.columns]\n",
    "    final_df.drop(columns=\"Price\",inplace=True)\n",
    "    return final_df#final_df\n"
   ]
  },
  {
   "cell_type": "code",
   "execution_count": null,
   "id": "ed661269",
   "metadata": {},
   "outputs": [],
   "source": [
    "test_df=add_col(my_car)\n",
    "set(test_df.columns).difference(set(onehot_df.columns))\n"
   ]
  },
  {
   "cell_type": "code",
   "execution_count": null,
   "id": "cca72f17",
   "metadata": {},
   "outputs": [],
   "source": []
  },
  {
   "cell_type": "code",
   "execution_count": null,
   "id": "35c0eac7",
   "metadata": {},
   "outputs": [],
   "source": [
    "\n"
   ]
  },
  {
   "cell_type": "code",
   "execution_count": null,
   "id": "6141d157",
   "metadata": {},
   "outputs": [],
   "source": [
    "(156137-110000)/110000*100"
   ]
  },
  {
   "cell_type": "code",
   "execution_count": null,
   "id": "56aacf33",
   "metadata": {},
   "outputs": [],
   "source": [
    "# the best \n",
    "xgbr.predict(add_col(my_car))"
   ]
  },
  {
   "cell_type": "code",
   "execution_count": null,
   "id": "ce602d19",
   "metadata": {},
   "outputs": [],
   "source": [
    "(120000-110000)/110000*100"
   ]
  },
  {
   "cell_type": "code",
   "execution_count": null,
   "id": "c6d57d9b",
   "metadata": {},
   "outputs": [],
   "source": [
    "gbr.predict(final_data)"
   ]
  },
  {
   "cell_type": "code",
   "execution_count": null,
   "id": "48656763",
   "metadata": {},
   "outputs": [],
   "source": [
    "hgbr.predict(final_data)"
   ]
  },
  {
   "cell_type": "code",
   "execution_count": null,
   "id": "55caec7e",
   "metadata": {},
   "outputs": [],
   "source": [
    "rfr.predict(final_data)"
   ]
  },
  {
   "cell_type": "code",
   "execution_count": null,
   "id": "e1112a04",
   "metadata": {},
   "outputs": [],
   "source": [
    "rr.predict(final_data)"
   ]
  },
  {
   "cell_type": "code",
   "execution_count": null,
   "id": "d084f25e",
   "metadata": {},
   "outputs": [],
   "source": [
    "las.predict(final_data)"
   ]
  },
  {
   "cell_type": "code",
   "execution_count": null,
   "id": "874fe124",
   "metadata": {},
   "outputs": [],
   "source": [
    "dtr.predict(final_data)"
   ]
  },
  {
   "cell_type": "code",
   "execution_count": null,
   "id": "f9b57b5f",
   "metadata": {},
   "outputs": [],
   "source": []
  },
  {
   "cell_type": "code",
   "execution_count": null,
   "id": "bda4f314",
   "metadata": {},
   "outputs": [],
   "source": []
  },
  {
   "cell_type": "code",
   "execution_count": null,
   "id": "88e6c566",
   "metadata": {},
   "outputs": [],
   "source": []
  },
  {
   "cell_type": "code",
   "execution_count": null,
   "id": "90b45af4",
   "metadata": {},
   "outputs": [],
   "source": []
  },
  {
   "cell_type": "code",
   "execution_count": null,
   "id": "189b57a1",
   "metadata": {},
   "outputs": [],
   "source": []
  },
  {
   "cell_type": "code",
   "execution_count": null,
   "id": "7b798c8c",
   "metadata": {},
   "outputs": [],
   "source": []
  },
  {
   "cell_type": "code",
   "execution_count": null,
   "id": "74c16304",
   "metadata": {},
   "outputs": [],
   "source": [
    "df.columns"
   ]
  },
  {
   "cell_type": "code",
   "execution_count": null,
   "id": "b906bd29",
   "metadata": {},
   "outputs": [],
   "source": [
    "test_data=pd.read_csv(\"cleaned_car_test_data.csv\")\n",
    "\n",
    "features=['Dvd_cd_mp3', 'Jantes_aluminium', 'Alarme', 'Airbags',\n",
    "       'Aide_parking', 'Climatisation_auto', 'Abs',\n",
    "       'Système_de_navigation_gps', \"Carnet_d'entretien\", 'Vitres_éléctriques',\n",
    "       'Anti_patinage', 'Esp', 'Capote_électrique', 'Projecteurs_xenon',\n",
    "       'Rétroviseur_extérieur_électrique', 'Toit_ouvrant_panoramique',\n",
    "       'Toit_ouvrant', 'Intérieur_cuir', 'Siège_chauffant', 'Siége_electrique',\n",
    "       'Siége_sport', 'Vitres_surteintées', 'Volant_reglable',\n",
    "       'Anti_démarrage', 'Volant_sport', 'Contrôle_de_pression_des_pneus',\n",
    "       'Détecteur_de_pluie', 'Climatisation_multizone', 'Direction_assistée',\n",
    "       'Keyless_go', 'Ordinateur_de_bord', 'Radio_commande_au_volant',\n",
    "       'Régulateur_de_vitesse', 'Anti_brouillard', 'Affichage_tête_haute',\n",
    "       'Suspension_sport', 'Frein_de_parking_automatique', 'Non_fumeur',\n",
    "       \"Système_d'identification_du_conducteur\", 'Radar_de_recul',\n",
    "       'Limiteur_de_vitesse', 'Verrouillage_centralisé_à_distance']\n",
    "\n",
    "test_data['N_features']=test_data[features].sum(axis=1)\n"
   ]
  },
  {
   "cell_type": "code",
   "execution_count": null,
   "id": "79aadd22",
   "metadata": {},
   "outputs": [],
   "source": [
    "test_data[\"Age\"]=datetime.now().year-test_data[\"Year\"]\n",
    "test_data"
   ]
  },
  {
   "cell_type": "code",
   "execution_count": null,
   "id": "c7cc7b5a",
   "metadata": {},
   "outputs": [],
   "source": [
    "encoded_test_data=pd.get_dummies(test_data)\n",
    "#encoded_test_data=pd.get_dummies(test_data)\n"
   ]
  },
  {
   "cell_type": "code",
   "execution_count": null,
   "id": "51413377",
   "metadata": {},
   "outputs": [],
   "source": [
    "X=encoded_test_data.drop(columns=\"Price\")\n",
    "y=encoded_test_data[\"Price\"]"
   ]
  },
  {
   "cell_type": "code",
   "execution_count": null,
   "id": "52cd958f",
   "metadata": {},
   "outputs": [],
   "source": []
  },
  {
   "cell_type": "code",
   "execution_count": null,
   "id": "e8d8874d",
   "metadata": {},
   "outputs": [],
   "source": []
  }
 ],
 "metadata": {
  "kernelspec": {
   "display_name": "Python 3 (ipykernel)",
   "language": "python",
   "name": "python3"
  },
  "language_info": {
   "codemirror_mode": {
    "name": "ipython",
    "version": 3
   },
   "file_extension": ".py",
   "mimetype": "text/x-python",
   "name": "python",
   "nbconvert_exporter": "python",
   "pygments_lexer": "ipython3",
   "version": "3.10.9"
  }
 },
 "nbformat": 4,
 "nbformat_minor": 5
}
