{
 "cells": [
  {
   "cell_type": "markdown",
   "id": "f1962d7d",
   "metadata": {},
   "source": [
    "# <center> House Price Prediction using XGBRegressor "
   ]
  },
  {
   "cell_type": "markdown",
   "id": "bd4ffffa",
   "metadata": {},
   "source": [
    " in this notebook, we will try to train a XGBRegressor whitout data pre processing,\n",
    "then we will see the resutls, "
   ]
  },
  {
   "cell_type": "code",
   "execution_count": 1,
   "id": "fc180f9a",
   "metadata": {},
   "outputs": [
    {
     "name": "stdout",
     "output_type": "stream",
     "text": [
      "Collecting scikit-optimize\n",
      "  Downloading scikit_optimize-0.9.0-py2.py3-none-any.whl (100 kB)\n",
      "     ------------------------------------ 100.3/100.3 kB 720.2 kB/s eta 0:00:00\n",
      "Requirement already satisfied: scipy>=0.19.1 in c:\\users\\conda3\\lib\\site-packages (from scikit-optimize) (1.10.0)\n",
      "Requirement already satisfied: joblib>=0.11 in c:\\users\\conda3\\lib\\site-packages (from scikit-optimize) (1.1.1)\n",
      "Collecting pyaml>=16.9\n",
      "  Downloading pyaml-23.7.0-py3-none-any.whl (17 kB)\n",
      "Requirement already satisfied: numpy>=1.13.3 in c:\\users\\conda3\\lib\\site-packages (from scikit-optimize) (1.23.5)\n",
      "Requirement already satisfied: scikit-learn>=0.20.0 in c:\\users\\conda3\\lib\\site-packages (from scikit-optimize) (1.2.1)\n",
      "Requirement already satisfied: PyYAML in c:\\users\\conda3\\lib\\site-packages (from pyaml>=16.9->scikit-optimize) (6.0)\n",
      "Requirement already satisfied: threadpoolctl>=2.0.0 in c:\\users\\conda3\\lib\\site-packages (from scikit-learn>=0.20.0->scikit-optimize) (2.2.0)\n",
      "Installing collected packages: pyaml, scikit-optimize\n",
      "Successfully installed pyaml-23.7.0 scikit-optimize-0.9.0\n"
     ]
    }
   ],
   "source": [
    "!pip3 install scikit-optimize"
   ]
  },
  {
   "cell_type": "code",
   "execution_count": 1,
   "id": "bd59986e",
   "metadata": {},
   "outputs": [],
   "source": [
    "import pandas as pd\n",
    "import numpy as np\n",
    "import seaborn as sns\n",
    "\n",
    "import xgboost\n",
    "from xgboost import XGBRegressor\n",
    "from xgboost import XGBClassifier\n",
    "import sklearn\n",
    "from sklearn.model_selection import train_test_split,RandomizedSearchCV\n",
    "from sklearn.metrics import r2_score, mean_squared_error as mse, mean_absolute_error as mae\n",
    "\n",
    "from skopt.space import Real, Integer\n",
    "from skopt.utils import use_named_args\n",
    "from sklearn.model_selection import cross_val_score\n",
    "\n"
   ]
  },
  {
   "cell_type": "code",
   "execution_count": 2,
   "id": "4b4b0759",
   "metadata": {},
   "outputs": [
    {
     "data": {
      "text/plain": [
       "(1460, 81)"
      ]
     },
     "execution_count": 2,
     "metadata": {},
     "output_type": "execute_result"
    }
   ],
   "source": [
    "df=pd.read_csv(\"train.csv\")\n",
    "df.shape"
   ]
  },
  {
   "cell_type": "code",
   "execution_count": 3,
   "id": "295df9ef",
   "metadata": {},
   "outputs": [],
   "source": [
    "#dtrain = xgboost.DMatrix(df,enable_categorical=True)\n",
    "#dtrain= xgboost.DMatrix(\"train.csv\")\n",
    "#dtrain"
   ]
  },
  {
   "cell_type": "code",
   "execution_count": 4,
   "id": "f40a8753",
   "metadata": {},
   "outputs": [],
   "source": [
    "X=df.drop(columns=\"SalePrice\")\n",
    "Y=df[\"SalePrice\"]"
   ]
  },
  {
   "cell_type": "code",
   "execution_count": 5,
   "id": "4ac29344",
   "metadata": {},
   "outputs": [],
   "source": [
    "num_df=X.select_dtypes(exclude=\"object\")\n",
    "cat_df=X.select_dtypes(include=\"object\")\n",
    "cat_df=cat_df.astype(\"category\")\n",
    "x=pd.concat([num_df,cat_df],axis=1)\n",
    "#x.info()"
   ]
  },
  {
   "cell_type": "code",
   "execution_count": 6,
   "id": "331a31b3",
   "metadata": {},
   "outputs": [
    {
     "name": "stdout",
     "output_type": "stream",
     "text": [
      "(1022, 80) (1022,) (438, 80) (438,)\n"
     ]
    }
   ],
   "source": [
    "x_train,x_test,y_train,y_test=train_test_split(x,Y,test_size=0.3,random_state=123)\n",
    "print(x_train.shape,\n",
    "      y_train.shape,\n",
    "      x_test.shape,\n",
    "      y_test.shape)"
   ]
  },
  {
   "cell_type": "code",
   "execution_count": null,
   "id": "ed9ef378",
   "metadata": {},
   "outputs": [],
   "source": []
  },
  {
   "cell_type": "code",
   "execution_count": 76,
   "id": "53bba76e",
   "metadata": {},
   "outputs": [],
   "source": [
    "model_=[]\n",
    "score_=[]\n",
    "def predict(ml_model):\n",
    "    #print('Model is: {}'.format(ml_model))\n",
    "    model= ml_model.fit(x_train,y_train)\n",
    "    print(\"Training score: {}\".format(model.score(x_train,y_train)))\n",
    "    predictions = model.predict(x_test)\n",
    "    print(\"Predictions are: {}\".format(predictions[0:5]))\n",
    "    print('\\n')\n",
    "    r2score=r2_score(y_test,predictions) \n",
    "    print(\"r2 score is: {}\".format(r2score))\n",
    "          \n",
    "    print('MAE:{}'.format(mse(y_test,predictions)))\n",
    "    print('MSE:{}'.format(mse(y_test,predictions)))\n",
    "    print('RMSE:{}'.format(np.sqrt(mse(y_test,predictions))))\n",
    "    model_.append(type(ml_model).__name__)\n",
    "    score_.append(np.round(r2score,2))\n",
    "    \n",
    "     \n",
    "    sns.distplot(y_test-predictions)      \n",
    "          "
   ]
  },
  {
   "cell_type": "code",
   "execution_count": 376,
   "id": "6e281b28",
   "metadata": {},
   "outputs": [
    {
     "name": "stdout",
     "output_type": "stream",
     "text": [
      "Model is: XGBRegressor(base_score=None, booster=None, callbacks=None,\n",
      "             colsample_bylevel=None, colsample_bynode=None,\n",
      "             colsample_bytree=None, early_stopping_rounds=None,\n",
      "             enable_categorical=True, eval_metric=None, feature_types=None,\n",
      "             gamma=None, gpu_id=None, grow_policy=None, importance_type=None,\n",
      "             interaction_constraints=None, learning_rate=None, max_bin=None,\n",
      "             max_cat_threshold=None, max_cat_to_onehot=15, max_delta_step=None,\n",
      "             max_depth=None, max_leaves=None, min_child_weight=None,\n",
      "             missing=nan, monotone_constraints=None, n_estimators=100,\n",
      "             n_jobs=None, num_parallel_tree=None, predictor=None,\n",
      "             random_state=None, ...)\n",
      "Training score: 0.9999564141966152\n",
      "Predictions are: [233257.5   74635.64 137654.22 276416.4  139927.23]\n",
      "\n",
      "\n",
      "r2 score is: 0.8665724673070948\n",
      "MAE:765668039.1856399\n",
      "MSE:765668039.1856399\n",
      "RMSE:27670.707240430987\n"
     ]
    },
    {
     "name": "stderr",
     "output_type": "stream",
     "text": [
      "C:\\Users\\hp\\AppData\\Local\\Temp\\ipykernel_21344\\3913721863.py:20: UserWarning: \n",
      "\n",
      "`distplot` is a deprecated function and will be removed in seaborn v0.14.0.\n",
      "\n",
      "Please adapt your code to use either `displot` (a figure-level function with\n",
      "similar flexibility) or `histplot` (an axes-level function for histograms).\n",
      "\n",
      "For a guide to updating your code to use the new functions, please see\n",
      "https://gist.github.com/mwaskom/de44147ed2974457ad6372750bbe5751\n",
      "\n",
      "  sns.distplot(y_test-predictions)\n"
     ]
    },
    {
     "data": {
      "image/png": "[encoded data removed]",
      "text/plain": [
       "<Figure size 640x480 with 1 Axes>"
      ]
     },
     "metadata": {},
     "output_type": "display_data"
    }
   ],
   "source": [
    "predict(XGBRegressor(tree_method=\"hist\",\n",
    "                     enable_categorical=True,\n",
    "                     max_cat_to_onehot=15))"
   ]
  },
  {
   "cell_type": "markdown",
   "id": "f194320c",
   "metadata": {},
   "source": [
    "## Hyper Tunning XGBRegressor Model:"
   ]
  },
  {
   "cell_type": "code",
   "execution_count": 9,
   "id": "ca9a3062",
   "metadata": {},
   "outputs": [],
   "source": [
    "list(np.arange(0.1,1.0,0.1))\n",
    "val=[0.1,0.2,0.3,0.4,0.5,0.6,0.7,0.8,0.9]"
   ]
  },
  {
   "cell_type": "code",
   "execution_count": 164,
   "id": "ae6d3da3",
   "metadata": {},
   "outputs": [],
   "source": [
    "xgbr=XGBRegressor(enable_categorical=True,\n",
    "                 tree_method=\"hist\",\n",
    "                 random_state=123,\n",
    "                 max_cat_to_onehot=1)\n",
    "param={\n",
    "       #\"booster\":[\"gbtree\", \"gblinear\",\"dart\"],\n",
    "       \"objective\":[\"reg:squarederror\",\"reg:squaredlogerror\"\n",
    "                    ,\"reg:pseudohubererror\",\n",
    "                    \"reg:absoluteerror\"],\n",
    "       \"colsample_bytree\":val,\n",
    "       \"colsample_bylevel\":val,\n",
    "       \"colsample_bynode\":val,\n",
    "       \"reg_alpha\":val,\n",
    "       \"reg_lambda\":val,\n",
    "       \"subsample\":val,\n",
    "       #\"gamma\":[0,1,2,3,4,5],\n",
    "       \"learning_rate\":[0.01,0.02,0.03,0.04,0.05,0.06,0.07,0.08,0.09,0.1],#to 0.3\n",
    "       \"max_delta_step\":[1,2,3,4,5,6,7],\n",
    "       \"max_depth\":[1,2,3,4,5,6,7,8],\n",
    "       \"n_estimators\":[100,200,300,400,500,600,700,800,900,1000],#,800,900,1000],\n",
    "       \"min_child_weight\":[1,2,3,4,5],\n",
    "       #\"max_cat_threshold\":[1,5,10]\n",
    "       \n",
    "      \n",
    "}\n",
    "\n",
    "#scorer = metrics.make_scorer(metrics.r2_score)\n",
    "\n",
    "rs_xgb=RandomizedSearchCV(estimator=xgbr,n_iter=300,cv=3,scoring=\"r2\",\n",
    "                          param_distributions=param,n_jobs=-1,verbose=1)"
   ]
  },
  {
   "cell_type": "code",
   "execution_count": null,
   "id": "4ce427a8",
   "metadata": {},
   "outputs": [],
   "source": [
    "predict(rs_xgb)"
   ]
  },
  {
   "cell_type": "code",
   "execution_count": 181,
   "id": "d9a5422d",
   "metadata": {},
   "outputs": [],
   "source": [
    "#sklearn.metrics.get_scorer_names()"
   ]
  },
  {
   "cell_type": "code",
   "execution_count": 427,
   "id": "dda4fee3",
   "metadata": {},
   "outputs": [
    {
     "data": {
      "text/plain": [
       "{'subsample': 0.7,\n",
       " 'reg_lambda': 0.6,\n",
       " 'reg_alpha': 0.2,\n",
       " 'objective': 'reg:squarederror',\n",
       " 'n_estimators': 600,\n",
       " 'min_child_weight': 2,\n",
       " 'max_depth': 6,\n",
       " 'learning_rate': 0.03,\n",
       " 'colsample_bytree': 0.8,\n",
       " 'colsample_bynode': 0.6,\n",
       " 'colsample_bylevel': 0.7}"
      ]
     },
     "execution_count": 427,
     "metadata": {},
     "output_type": "execute_result"
    }
   ],
   "source": [
    "rs_xgb.best_params_"
   ]
  },
  {
   "cell_type": "code",
   "execution_count": 237,
   "id": "06e2419e",
   "metadata": {},
   "outputs": [],
   "source": []
  },
  {
   "cell_type": "code",
   "execution_count": 341,
   "id": "b8e86ed7",
   "metadata": {},
   "outputs": [],
   "source": [
    "xgb_best_param1=XGBRegressor(\n",
    " subsample =0.35,\n",
    " enable_categorical=True,\n",
    " tree_method=\"hist\",\n",
    " random_state=123,\n",
    " reg_lambda= 0.2,\n",
    " reg_alpha= 0.8,\n",
    " n_estimators= 210,\n",
    " max_depth= 4,\n",
    " max_cat_to_onehot=1,\n",
    " learning_rate= 0.08,\n",
    " colsample_bytree= 0.9,\n",
    " colsample_bynode= 0.9,\n",
    " colsample_bylevel= 0.7,\n",
    ")"
   ]
  },
  {
   "cell_type": "code",
   "execution_count": 342,
   "id": "3be26cab",
   "metadata": {},
   "outputs": [
    {
     "name": "stdout",
     "output_type": "stream",
     "text": [
      "Model is: XGBRegressor(base_score=None, booster=None, callbacks=None,\n",
      "             colsample_bylevel=0.7, colsample_bynode=0.9, colsample_bytree=0.9,\n",
      "             early_stopping_rounds=None, enable_categorical=True,\n",
      "             eval_metric=None, feature_types=None, gamma=None, gpu_id=None,\n",
      "             grow_policy=None, importance_type=None,\n",
      "             interaction_constraints=None, learning_rate=0.08, max_bin=None,\n",
      "             max_cat_threshold=None, max_cat_to_onehot=1, max_delta_step=None,\n",
      "             max_depth=4, max_leaves=None, min_child_weight=None, missing=nan,\n",
      "             monotone_constraints=None, n_estimators=210, n_jobs=None,\n",
      "             num_parallel_tree=None, predictor=None, random_state=123, ...)\n",
      "Training score: 0.9887826551131295\n",
      "Predictions are: [221801.06 124476.86 141299.33 256231.4  146950.95]\n",
      "\n",
      "\n",
      "r2 score is: 0.9133086105449743\n",
      "MAE:497474732.8280446\n",
      "MSE:497474732.8280446\n",
      "RMSE:22304.14160706582\n"
     ]
    },
    {
     "name": "stderr",
     "output_type": "stream",
     "text": [
      "C:\\Users\\hp\\AppData\\Local\\Temp\\ipykernel_21344\\3913721863.py:20: UserWarning: \n",
      "\n",
      "`distplot` is a deprecated function and will be removed in seaborn v0.14.0.\n",
      "\n",
      "Please adapt your code to use either `displot` (a figure-level function with\n",
      "similar flexibility) or `histplot` (an axes-level function for histograms).\n",
      "\n",
      "For a guide to updating your code to use the new functions, please see\n",
      "https://gist.github.com/mwaskom/de44147ed2974457ad6372750bbe5751\n",
      "\n",
      "  sns.distplot(y_test-predictions)\n"
     ]
    },
    {
     "data": {
      "image/png": "[encoded data removed]",
      "text/plain": [
       "<Figure size 640x480 with 1 Axes>"
      ]
     },
     "metadata": {},
     "output_type": "display_data"
    }
   ],
   "source": [
    "predict(xgb_best_param1)"
   ]
  },
  {
   "cell_type": "code",
   "execution_count": 163,
   "id": "de5c9c09",
   "metadata": {},
   "outputs": [
    {
     "name": "stdout",
     "output_type": "stream",
     "text": [
      "Training score: 0.995421486660605\n",
      "Predictions are: [223000.88 102189.59 138805.27 250691.47 137983.19]\n",
      "\n",
      "\n",
      "r2 score is: 0.9181562070387199\n",
      "MAE:469657013.14741427\n",
      "MSE:469657013.14741427\n",
      "RMSE:21671.571543093367\n"
     ]
    },
    {
     "name": "stderr",
     "output_type": "stream",
     "text": [
      "C:\\Users\\hp\\AppData\\Local\\Temp\\ipykernel_12524\\3100297001.py:20: UserWarning: \n",
      "\n",
      "`distplot` is a deprecated function and will be removed in seaborn v0.14.0.\n",
      "\n",
      "Please adapt your code to use either `displot` (a figure-level function with\n",
      "similar flexibility) or `histplot` (an axes-level function for histograms).\n",
      "\n",
      "For a guide to updating your code to use the new functions, please see\n",
      "https://gist.github.com/mwaskom/de44147ed2974457ad6372750bbe5751\n",
      "\n",
      "  sns.distplot(y_test-predictions)\n"
     ]
    },
    {
     "data": {
      "image/png": "[encoded data removed]",
      "text/plain": [
       "<Figure size 640x480 with 1 Axes>"
      ]
     },
     "metadata": {},
     "output_type": "display_data"
    }
   ],
   "source": [
    "xgb_best_param2=XGBRegressor(\n",
    " subsample =0.731,\n",
    " enable_categorical=True,\n",
    " tree_method=\"hist\",\n",
    " random_state=123,\n",
    " reg_lambda= 0.4631,\n",
    " reg_alpha= 0.4,\n",
    " n_estimators= 538,\n",
    " max_depth= 3,\n",
    " max_cat_to_onehot=1,\n",
    " learning_rate= 0.09,\n",
    " colsample_bytree= 0.29,\n",
    " colsample_bynode= 0.8,\n",
    " colsample_bylevel= 0.9,\n",
    " min_child_weight=0.8\n",
    ")\n",
    "predict(xgb_best_param2)"
   ]
  },
  {
   "cell_type": "code",
   "execution_count": null,
   "id": "beea8993",
   "metadata": {},
   "outputs": [],
   "source": [
    "test=pd.read_csv(\"test_house_price.csv\")\n",
    "num_df=test.select_dtypes(exclude=\"object\")\n",
    "cat_df=test.select_dtypes(include=\"object\")\n",
    "cat_df=cat_df.astype(\"category\")\n",
    "test_data=pd.concat([num_df,cat_df],axis=1)\n",
    "test_data.info()"
   ]
  },
  {
   "cell_type": "code",
   "execution_count": 173,
   "id": "2a0a6b52",
   "metadata": {},
   "outputs": [
    {
     "data": {
      "text/plain": [
       "array([125300.  , 159535.42, 177530.42, ..., 150169.4 , 114533.27,\n",
       "       203819.42], dtype=float32)"
      ]
     },
     "execution_count": 173,
     "metadata": {},
     "output_type": "execute_result"
    }
   ],
   "source": [
    "predictions=xgb_best_param2.predict(test_data)\n",
    "predictions"
   ]
  },
  {
   "cell_type": "code",
   "execution_count": 180,
   "id": "26822644",
   "metadata": {},
   "outputs": [],
   "source": [
    "submission=pd.DataFrame({\"Id\":range(1461,2920),\"SalePrice\":predictions},index= None)\n",
    "submission.to_csv(\"House_Price_PredicSubm_xgbr_no_preprocessing.csv\",index=False)"
   ]
  },
  {
   "cell_type": "code",
   "execution_count": null,
   "id": "594aa9b2",
   "metadata": {},
   "outputs": [],
   "source": []
  },
  {
   "cell_type": "code",
   "execution_count": null,
   "id": "8e933d47",
   "metadata": {},
   "outputs": [],
   "source": []
  },
  {
   "cell_type": "code",
   "execution_count": null,
   "id": "aff7f56a",
   "metadata": {},
   "outputs": [],
   "source": []
  },
  {
   "cell_type": "markdown",
   "id": "791de1cc",
   "metadata": {},
   "source": [
    "## Bayesian Grid Search"
   ]
  },
  {
   "cell_type": "code",
   "execution_count": 16,
   "id": "44dcf621",
   "metadata": {},
   "outputs": [
    {
     "name": "stdout",
     "output_type": "stream",
     "text": [
      "CPU times: total: 15.6 ms\n",
      "Wall time: 22.9 ms\n"
     ]
    }
   ],
   "source": [
    "%%time\n",
    "from skopt import BayesSearchCV\n",
    "bayes_xgb = BayesSearchCV(xgbr,\n",
    "                      search_spaces=param,\n",
    "                      n_iter=100, cv=4)"
   ]
  },
  {
   "cell_type": "code",
   "execution_count": 17,
   "id": "554bc908",
   "metadata": {},
   "outputs": [
    {
     "name": "stdout",
     "output_type": "stream",
     "text": [
      "Model is: BayesSearchCV(cv=4,\n",
      "              estimator=XGBRegressor(base_score=None, booster=None,\n",
      "                                     callbacks=None, colsample_bylevel=None,\n",
      "                                     colsample_bynode=None,\n",
      "                                     colsample_bytree=None,\n",
      "                                     early_stopping_rounds=None,\n",
      "                                     enable_categorical=True, eval_metric=None,\n",
      "                                     feature_types=None, gamma=None,\n",
      "                                     gpu_id=None, grow_policy=None,\n",
      "                                     importance_type=None,\n",
      "                                     interaction_constraints=None,\n",
      "                                     learning_rate=None, m...\n",
      "                             'max_depth': [1, 2, 3, 4, 5, 6, 7, 8],\n",
      "                             'min_child_weight': [1, 2, 3, 4, 5],\n",
      "                             'n_estimators': [100, 200, 300, 400, 500, 600, 700,\n",
      "                                              800, 900, 1000],\n",
      "                             'objective': ['reg:squarederror',\n",
      "                                           'reg:squaredlogerror',\n",
      "                                           'reg:pseudohubererror',\n",
      "                                           'reg:absoluteerror'],\n",
      "                             'reg_alpha': [0.1, 0.2, 0.3, 0.4, 0.5, 0.6, 0.7,\n",
      "                                           0.8, 0.9],\n",
      "                             'reg_lambda': [0.1, 0.2, 0.3, 0.4, 0.5, 0.6, 0.7,\n",
      "                                            0.8, 0.9],\n",
      "                             'subsample': [0.1, 0.2, 0.3, 0.4, 0.5, 0.6, 0.7,\n",
      "                                           0.8, 0.9]})\n",
      "Training score: 0.9142285033622201\n",
      "Predictions are: [227941.6  122088.49 119624.09 246051.66 137397.06]\n",
      "\n",
      "\n",
      "r2 score is: 0.8636271210780063\n",
      "MAE:782569779.2271006\n",
      "MSE:782569779.2271006\n",
      "RMSE:27974.44868495357\n"
     ]
    },
    {
     "name": "stderr",
     "output_type": "stream",
     "text": [
      "C:\\Users\\hp\\AppData\\Local\\Temp\\ipykernel_12524\\3913721863.py:20: UserWarning: \n",
      "\n",
      "`distplot` is a deprecated function and will be removed in seaborn v0.14.0.\n",
      "\n",
      "Please adapt your code to use either `displot` (a figure-level function with\n",
      "similar flexibility) or `histplot` (an axes-level function for histograms).\n",
      "\n",
      "For a guide to updating your code to use the new functions, please see\n",
      "https://gist.github.com/mwaskom/de44147ed2974457ad6372750bbe5751\n",
      "\n",
      "  sns.distplot(y_test-predictions)\n"
     ]
    },
    {
     "name": "stdout",
     "output_type": "stream",
     "text": [
      "CPU times: total: 56min 16s\n",
      "Wall time: 20min 16s\n"
     ]
    },
    {
     "data": {
      "image/png": "[encoded data removed]",
      "text/plain": [
       "<Figure size 640x480 with 1 Axes>"
      ]
     },
     "metadata": {},
     "output_type": "display_data"
    }
   ],
   "source": [
    "%%time\n",
    "predict(bayes_xgb)"
   ]
  },
  {
   "cell_type": "markdown",
   "id": "787854c0",
   "metadata": {},
   "source": [
    "## Method 4: Using continuous Search Spaces for Bayesian Search"
   ]
  },
  {
   "cell_type": "code",
   "execution_count": 28,
   "id": "7cf4482d",
   "metadata": {},
   "outputs": [
    {
     "data": {
      "text/plain": [
       "-11.512925464970229"
      ]
     },
     "execution_count": 28,
     "metadata": {},
     "output_type": "execute_result"
    }
   ],
   "source": [
    "np.log(10**-5)"
   ]
  },
  {
   "cell_type": "code",
   "execution_count": 39,
   "id": "c1e65cea",
   "metadata": {},
   "outputs": [],
   "source": [
    "\n",
    "bayes_space = XGBRegressor(enable_categorical=True,\n",
    "                 tree_method=\"hist\",\n",
    "                 random_state=123,\n",
    "                 max_cat_to_onehot=1)\n",
    "\n",
    "space  = [Integer(1, 20, name='max_depth'),\n",
    "          Real(10**-5, 10**0, \"log-uniform\", name='learning_rate'),\n",
    "          Real(0.1, 1,\"uniform\", name='subsample'),\n",
    "          Real(0.1,1,\"uniform\",name=\"colsample_bytree\"),\n",
    "          Real(0.1,1, \"uniform\", name=\"colsample_bylevel\"),\n",
    "          Real(0.1,1, \"uniform\", name=\"colsample_bynode\"),\n",
    "          Real(10**-5, 10**1, \"uniform\", name='gamma'),\n",
    "          Real(10**-5, 10**0, \"uniform\", name='reg_alpha'),\n",
    "          Real(10**-5, 10**0, \"uniform\", name='reg_lambda'),\n",
    "          Integer(100,1000,name=\"n_estimators\")] \n",
    "\n",
    "# The decorator below enables the objective function\n",
    "# to receive the parameters as keyword arguments.\n",
    "@use_named_args(space)\n",
    "def objective(**params):\n",
    "    '''\n",
    "    Scitkit Learn Optimize requires an objective function to minimize.\n",
    "    We use the average of cross-validation mean absolute errors as \n",
    "    the objective function (also called cost function in optimization)\n",
    "    '''\n",
    "    xgb.set_params(**params)\n",
    "\n",
    "    return -np.mean(cross_val_score(xgb, x_train, y_train, cv=4, n_jobs=-1,\n",
    "                                    scoring=\"neg_mean_absolute_error\"))"
   ]
  },
  {
   "cell_type": "code",
   "execution_count": 40,
   "id": "acc1906f",
   "metadata": {},
   "outputs": [
    {
     "name": "stdout",
     "output_type": "stream",
     "text": [
      "CPU times: total: 11 s\n",
      "Wall time: 59.8 s\n"
     ]
    }
   ],
   "source": [
    "%%time \n",
    "from skopt import gp_minimize\n",
    "res_gp = gp_minimize(objective, space, n_calls=20, random_state=123)"
   ]
  },
  {
   "cell_type": "code",
   "execution_count": 41,
   "id": "30b2ddd8",
   "metadata": {},
   "outputs": [
    {
     "name": "stdout",
     "output_type": "stream",
     "text": [
      "Model is: XGBRegressor(base_score=None, booster=None, callbacks=None,\n",
      "             colsample_bylevel=0.7667184876028318,\n",
      "             colsample_bynode=0.89562332187716,\n",
      "             colsample_bytree=0.9990996713807268, early_stopping_rounds=None,\n",
      "             enable_categorical=True, eval_metric=None, feature_types=None,\n",
      "             gamma=0.646195169234585, gpu_id=None, grow_policy=None,\n",
      "             importance_type=None, interaction_constraints=None,\n",
      "             learning_rate=0.291693078198066, max_bin=None,\n",
      "             max_cat_threshold=None, max_cat_to_onehot=1, max_delta_step=None,\n",
      "             max_depth=19, max_leaves=None, min_child_weight=None, missing=nan,\n",
      "             monotone_constraints=None, n_estimators=113, n_jobs=None,\n",
      "             num_parallel_tree=None, predictor=None, random_state=123, ...)\n",
      "[13:26:12] WARNING: C:\\buildkite-agent\\builds\\buildkite-windows-cpu-autoscaling-group-i-0fdc6d574b9c0d168-1\\xgboost\\xgboost-ci-windows\\src\\learner.cc:767: \n",
      "Parameters: { \"reg_gamma\" } are not used.\n",
      "\n",
      "Training score: 0.9999999999715442\n",
      "Predictions are: [234100.98  94954.54 151760.84 265568.2  157545.97]\n",
      "\n",
      "\n",
      "r2 score is: 0.8788646484493879\n",
      "MAE:695129897.3000653\n",
      "MSE:695129897.3000653\n",
      "RMSE:26365.31618054419\n"
     ]
    },
    {
     "name": "stderr",
     "output_type": "stream",
     "text": [
      "C:\\Users\\hp\\AppData\\Local\\Temp\\ipykernel_6080\\3913721863.py:20: UserWarning: \n",
      "\n",
      "`distplot` is a deprecated function and will be removed in seaborn v0.14.0.\n",
      "\n",
      "Please adapt your code to use either `displot` (a figure-level function with\n",
      "similar flexibility) or `histplot` (an axes-level function for histograms).\n",
      "\n",
      "For a guide to updating your code to use the new functions, please see\n",
      "https://gist.github.com/mwaskom/de44147ed2974457ad6372750bbe5751\n",
      "\n",
      "  sns.distplot(y_test-predictions)\n"
     ]
    },
    {
     "data": {
      "image/png": "[encoded data removed]",
      "text/plain": [
       "<Figure size 640x480 with 1 Axes>"
      ]
     },
     "metadata": {},
     "output_type": "display_data"
    }
   ],
   "source": [
    "predict(xgb)"
   ]
  },
  {
   "cell_type": "code",
   "execution_count": 42,
   "id": "3ece114c",
   "metadata": {},
   "outputs": [
    {
     "data": {
      "text/html": [
       "<style>#sk-container-id-3 {color: black;background-color: white;}#sk-container-id-3 pre{padding: 0;}#sk-container-id-3 div.sk-toggleable {background-color: white;}#sk-container-id-3 label.sk-toggleable__label {cursor: pointer;display: block;width: 100%;margin-bottom: 0;padding: 0.3em;box-sizing: border-box;text-align: center;}#sk-container-id-3 label.sk-toggleable__label-arrow:before {content: \"▸\";float: left;margin-right: 0.25em;color: #696969;}#sk-container-id-3 label.sk-toggleable__label-arrow:hover:before {color: black;}#sk-container-id-3 div.sk-estimator:hover label.sk-toggleable__label-arrow:before {color: black;}#sk-container-id-3 div.sk-toggleable__content {max-height: 0;max-width: 0;overflow: hidden;text-align: left;background-color: #f0f8ff;}#sk-container-id-3 div.sk-toggleable__content pre {margin: 0.2em;color: black;border-radius: 0.25em;background-color: #f0f8ff;}#sk-container-id-3 input.sk-toggleable__control:checked~div.sk-toggleable__content {max-height: 200px;max-width: 100%;overflow: auto;}#sk-container-id-3 input.sk-toggleable__control:checked~label.sk-toggleable__label-arrow:before {content: \"▾\";}#sk-container-id-3 div.sk-estimator input.sk-toggleable__control:checked~label.sk-toggleable__label {background-color: #d4ebff;}#sk-container-id-3 div.sk-label input.sk-toggleable__control:checked~label.sk-toggleable__label {background-color: #d4ebff;}#sk-container-id-3 input.sk-hidden--visually {border: 0;clip: rect(1px 1px 1px 1px);clip: rect(1px, 1px, 1px, 1px);height: 1px;margin: -1px;overflow: hidden;padding: 0;position: absolute;width: 1px;}#sk-container-id-3 div.sk-estimator {font-family: monospace;background-color: #f0f8ff;border: 1px dotted black;border-radius: 0.25em;box-sizing: border-box;margin-bottom: 0.5em;}#sk-container-id-3 div.sk-estimator:hover {background-color: #d4ebff;}#sk-container-id-3 div.sk-parallel-item::after {content: \"\";width: 100%;border-bottom: 1px solid gray;flex-grow: 1;}#sk-container-id-3 div.sk-label:hover label.sk-toggleable__label {background-color: #d4ebff;}#sk-container-id-3 div.sk-serial::before {content: \"\";position: absolute;border-left: 1px solid gray;box-sizing: border-box;top: 0;bottom: 0;left: 50%;z-index: 0;}#sk-container-id-3 div.sk-serial {display: flex;flex-direction: column;align-items: center;background-color: white;padding-right: 0.2em;padding-left: 0.2em;position: relative;}#sk-container-id-3 div.sk-item {position: relative;z-index: 1;}#sk-container-id-3 div.sk-parallel {display: flex;align-items: stretch;justify-content: center;background-color: white;position: relative;}#sk-container-id-3 div.sk-item::before, #sk-container-id-3 div.sk-parallel-item::before {content: \"\";position: absolute;border-left: 1px solid gray;box-sizing: border-box;top: 0;bottom: 0;left: 50%;z-index: -1;}#sk-container-id-3 div.sk-parallel-item {display: flex;flex-direction: column;z-index: 1;position: relative;background-color: white;}#sk-container-id-3 div.sk-parallel-item:first-child::after {align-self: flex-end;width: 50%;}#sk-container-id-3 div.sk-parallel-item:last-child::after {align-self: flex-start;width: 50%;}#sk-container-id-3 div.sk-parallel-item:only-child::after {width: 0;}#sk-container-id-3 div.sk-dashed-wrapped {border: 1px dashed gray;margin: 0 0.4em 0.5em 0.4em;box-sizing: border-box;padding-bottom: 0.4em;background-color: white;}#sk-container-id-3 div.sk-label label {font-family: monospace;font-weight: bold;display: inline-block;line-height: 1.2em;}#sk-container-id-3 div.sk-label-container {text-align: center;}#sk-container-id-3 div.sk-container {/* jupyter's `normalize.less` sets `[hidden] { display: none; }` but bootstrap.min.css set `[hidden] { display: none !important; }` so we also need the `!important` here to be able to override the default hidden behavior on the sphinx rendered scikit-learn.org. See: https://github.com/scikit-learn/scikit-learn/issues/21755 */display: inline-block !important;position: relative;}#sk-container-id-3 div.sk-text-repr-fallback {display: none;}</style><div id=\"sk-container-id-3\" class=\"sk-top-container\"><div class=\"sk-text-repr-fallback\"><pre>XGBRegressor(base_score=None, booster=None, callbacks=None,\n",
       "             colsample_bylevel=0.7667184876028318,\n",
       "             colsample_bynode=0.89562332187716,\n",
       "             colsample_bytree=0.9990996713807268, early_stopping_rounds=None,\n",
       "             enable_categorical=True, eval_metric=None, feature_types=None,\n",
       "             gamma=0.646195169234585, gpu_id=None, grow_policy=None,\n",
       "             importance_type=None, interaction_constraints=None,\n",
       "             learning_rate=0.291693078198066, max_bin=None,\n",
       "             max_cat_threshold=None, max_cat_to_onehot=1, max_delta_step=None,\n",
       "             max_depth=19, max_leaves=None, min_child_weight=None, missing=nan,\n",
       "             monotone_constraints=None, n_estimators=113, n_jobs=None,\n",
       "             num_parallel_tree=None, predictor=None, random_state=123, ...)</pre><b>In a Jupyter environment, please rerun this cell to show the HTML representation or trust the notebook. <br />On GitHub, the HTML representation is unable to render, please try loading this page with nbviewer.org.</b></div><div class=\"sk-container\" hidden><div class=\"sk-item\"><div class=\"sk-estimator sk-toggleable\"><input class=\"sk-toggleable__control sk-hidden--visually\" id=\"sk-estimator-id-3\" type=\"checkbox\" checked><label for=\"sk-estimator-id-3\" class=\"sk-toggleable__label sk-toggleable__label-arrow\">XGBRegressor</label><div class=\"sk-toggleable__content\"><pre>XGBRegressor(base_score=None, booster=None, callbacks=None,\n",
       "             colsample_bylevel=0.7667184876028318,\n",
       "             colsample_bynode=0.89562332187716,\n",
       "             colsample_bytree=0.9990996713807268, early_stopping_rounds=None,\n",
       "             enable_categorical=True, eval_metric=None, feature_types=None,\n",
       "             gamma=0.646195169234585, gpu_id=None, grow_policy=None,\n",
       "             importance_type=None, interaction_constraints=None,\n",
       "             learning_rate=0.291693078198066, max_bin=None,\n",
       "             max_cat_threshold=None, max_cat_to_onehot=1, max_delta_step=None,\n",
       "             max_depth=19, max_leaves=None, min_child_weight=None, missing=nan,\n",
       "             monotone_constraints=None, n_estimators=113, n_jobs=None,\n",
       "             num_parallel_tree=None, predictor=None, random_state=123, ...)</pre></div></div></div></div></div>"
      ],
      "text/plain": [
       "XGBRegressor(base_score=None, booster=None, callbacks=None,\n",
       "             colsample_bylevel=0.7667184876028318,\n",
       "             colsample_bynode=0.89562332187716,\n",
       "             colsample_bytree=0.9990996713807268, early_stopping_rounds=None,\n",
       "             enable_categorical=True, eval_metric=None, feature_types=None,\n",
       "             gamma=0.646195169234585, gpu_id=None, grow_policy=None,\n",
       "             importance_type=None, interaction_constraints=None,\n",
       "             learning_rate=0.291693078198066, max_bin=None,\n",
       "             max_cat_threshold=None, max_cat_to_onehot=1, max_delta_step=None,\n",
       "             max_depth=19, max_leaves=None, min_child_weight=None, missing=nan,\n",
       "             monotone_constraints=None, n_estimators=113, n_jobs=None,\n",
       "             num_parallel_tree=None, predictor=None, random_state=123, ...)"
      ]
     },
     "execution_count": 42,
     "metadata": {},
     "output_type": "execute_result"
    }
   ],
   "source": [
    "xgb"
   ]
  },
  {
   "cell_type": "code",
   "execution_count": null,
   "id": "32b8b68c",
   "metadata": {},
   "outputs": [],
   "source": []
  }
 ],
 "metadata": {
  "kernelspec": {
   "display_name": "Python 3 (ipykernel)",
   "language": "python",
   "name": "python3"
  },
  "language_info": {
   "codemirror_mode": {
    "name": "ipython",
    "version": 3
   },
   "file_extension": ".py",
   "mimetype": "text/x-python",
   "name": "python",
   "nbconvert_exporter": "python",
   "pygments_lexer": "ipython3",
   "version": "3.10.9"
  }
 },
 "nbformat": 4,
 "nbformat_minor": 5
}
