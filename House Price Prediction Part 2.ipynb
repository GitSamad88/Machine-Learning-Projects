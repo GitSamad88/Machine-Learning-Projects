{
 "cells": [
  {
   "cell_type": "markdown",
   "id": "2063b682",
   "metadata": {},
   "source": [
    "# <center> Data Pre-Processing: Data Formating"
   ]
  },
  {
   "cell_type": "code",
   "execution_count": 2,
   "id": "c2d1b57b",
   "metadata": {},
   "outputs": [],
   "source": [
    "import pandas as pd\n",
    "import numpy as np\n",
    "import scipy\n",
    "import matplotlib.pyplot as plt\n",
    "import seaborn as sns\n",
    "import plotly.express as px\n",
    "import plotly.graph_objects as go\n",
    "import warnings"
   ]
  },
  {
   "cell_type": "code",
   "execution_count": 3,
   "id": "16a6134b",
   "metadata": {},
   "outputs": [],
   "source": [
    "warnings.filterwarnings(\"ignore\")"
   ]
  },
  {
   "cell_type": "code",
   "execution_count": 4,
   "id": "9886d900",
   "metadata": {},
   "outputs": [],
   "source": [
    "pd.set_option(\"display.max_columns\",100)\n",
    "pd.set_option(\"display.max_rows\",100)"
   ]
  },
  {
   "cell_type": "markdown",
   "id": "e9129904",
   "metadata": {},
   "source": [
    "### Load Data  "
   ]
  },
  {
   "cell_type": "code",
   "execution_count": 5,
   "id": "7c778083",
   "metadata": {},
   "outputs": [],
   "source": [
    "data=pd.read_csv(\"house_price_part1.csv\")"
   ]
  },
  {
   "cell_type": "markdown",
   "id": "1507009f",
   "metadata": {},
   "source": [
    "## display type of each feature:"
   ]
  },
  {
   "cell_type": "code",
   "execution_count": 6,
   "id": "ca61f00b",
   "metadata": {},
   "outputs": [
    {
     "data": {
      "text/plain": [
       "(2919, 77)"
      ]
     },
     "execution_count": 6,
     "metadata": {},
     "output_type": "execute_result"
    }
   ],
   "source": [
    "data.shape"
   ]
  },
  {
   "cell_type": "code",
   "execution_count": 7,
   "id": "d65ad7ec",
   "metadata": {},
   "outputs": [
    {
     "name": "stdout",
     "output_type": "stream",
     "text": [
      "<class 'pandas.core.frame.DataFrame'>\n",
      "RangeIndex: 2919 entries, 0 to 2918\n",
      "Data columns (total 77 columns):\n",
      " #   Column         Non-Null Count  Dtype  \n",
      "---  ------         --------------  -----  \n",
      " 0   Unnamed: 0     2919 non-null   int64  \n",
      " 1   Id             2919 non-null   int64  \n",
      " 2   MSSubClass     2919 non-null   int64  \n",
      " 3   MSZoning       2919 non-null   object \n",
      " 4   LotFrontage    2919 non-null   float64\n",
      " 5   LotArea        2919 non-null   int64  \n",
      " 6   Street         2919 non-null   object \n",
      " 7   LotShape       2919 non-null   object \n",
      " 8   LandContour    2919 non-null   object \n",
      " 9   Utilities      2919 non-null   object \n",
      " 10  LotConfig      2919 non-null   object \n",
      " 11  LandSlope      2919 non-null   object \n",
      " 12  Neighborhood   2919 non-null   object \n",
      " 13  Condition1     2919 non-null   object \n",
      " 14  Condition2     2919 non-null   object \n",
      " 15  BldgType       2919 non-null   object \n",
      " 16  HouseStyle     2919 non-null   object \n",
      " 17  OverallQual    2919 non-null   int64  \n",
      " 18  OverallCond    2919 non-null   int64  \n",
      " 19  YearBuilt      2919 non-null   int64  \n",
      " 20  YearRemodAdd   2919 non-null   int64  \n",
      " 21  RoofStyle      2919 non-null   object \n",
      " 22  RoofMatl       2919 non-null   object \n",
      " 23  Exterior1st    2919 non-null   object \n",
      " 24  Exterior2nd    2919 non-null   object \n",
      " 25  MasVnrType     2919 non-null   object \n",
      " 26  MasVnrArea     2919 non-null   float64\n",
      " 27  ExterQual      2919 non-null   object \n",
      " 28  ExterCond      2919 non-null   object \n",
      " 29  Foundation     2919 non-null   object \n",
      " 30  BsmtQual       2919 non-null   object \n",
      " 31  BsmtCond       2919 non-null   object \n",
      " 32  BsmtExposure   2919 non-null   object \n",
      " 33  BsmtFinType1   2919 non-null   object \n",
      " 34  BsmtFinSF1     2919 non-null   float64\n",
      " 35  BsmtFinType2   2919 non-null   object \n",
      " 36  BsmtFinSF2     2919 non-null   float64\n",
      " 37  BsmtUnfSF      2919 non-null   float64\n",
      " 38  TotalBsmtSF    2919 non-null   float64\n",
      " 39  Heating        2919 non-null   object \n",
      " 40  HeatingQC      2919 non-null   object \n",
      " 41  CentralAir     2919 non-null   object \n",
      " 42  Electrical     2919 non-null   object \n",
      " 43  1stFlrSF       2919 non-null   int64  \n",
      " 44  2ndFlrSF       2919 non-null   int64  \n",
      " 45  LowQualFinSF   2919 non-null   int64  \n",
      " 46  GrLivArea      2919 non-null   int64  \n",
      " 47  BsmtFullBath   2919 non-null   float64\n",
      " 48  BsmtHalfBath   2919 non-null   float64\n",
      " 49  FullBath       2919 non-null   int64  \n",
      " 50  HalfBath       2919 non-null   int64  \n",
      " 51  BedroomAbvGr   2919 non-null   int64  \n",
      " 52  KitchenAbvGr   2919 non-null   int64  \n",
      " 53  KitchenQual    2919 non-null   object \n",
      " 54  TotRmsAbvGrd   2919 non-null   int64  \n",
      " 55  Functional     2919 non-null   object \n",
      " 56  Fireplaces     2919 non-null   int64  \n",
      " 57  GarageType     2919 non-null   object \n",
      " 58  GarageYrBlt    2919 non-null   object \n",
      " 59  GarageFinish   2919 non-null   object \n",
      " 60  GarageCars     2919 non-null   float64\n",
      " 61  GarageArea     2919 non-null   float64\n",
      " 62  GarageQual     2919 non-null   object \n",
      " 63  GarageCond     2919 non-null   object \n",
      " 64  PavedDrive     2919 non-null   object \n",
      " 65  WoodDeckSF     2919 non-null   int64  \n",
      " 66  OpenPorchSF    2919 non-null   int64  \n",
      " 67  EnclosedPorch  2919 non-null   int64  \n",
      " 68  3SsnPorch      2919 non-null   int64  \n",
      " 69  ScreenPorch    2919 non-null   int64  \n",
      " 70  PoolArea       2919 non-null   int64  \n",
      " 71  MiscVal        2919 non-null   int64  \n",
      " 72  MoSold         2919 non-null   int64  \n",
      " 73  YrSold         2919 non-null   int64  \n",
      " 74  SaleType       2919 non-null   object \n",
      " 75  SaleCondition  2919 non-null   object \n",
      " 76  SalePrice      1460 non-null   float64\n",
      "dtypes: float64(11), int64(27), object(39)\n",
      "memory usage: 1.7+ MB\n"
     ]
    }
   ],
   "source": [
    "data.info()"
   ]
  },
  {
   "cell_type": "code",
   "execution_count": 38,
   "id": "32967dad",
   "metadata": {},
   "outputs": [
    {
     "data": {
      "text/plain": [
       "Unnamed: 0          0\n",
       "Id                  0\n",
       "MSSubClass          0\n",
       "MSZoning            0\n",
       "LotFrontage         0\n",
       "LotArea             0\n",
       "Street              0\n",
       "LotShape            0\n",
       "LandContour         0\n",
       "Utilities           0\n",
       "LotConfig           0\n",
       "LandSlope           0\n",
       "Neighborhood        0\n",
       "Condition1          0\n",
       "Condition2          0\n",
       "BldgType            0\n",
       "HouseStyle          0\n",
       "OverallQual         0\n",
       "OverallCond         0\n",
       "YearBuilt           0\n",
       "YearRemodAdd        0\n",
       "RoofStyle           0\n",
       "RoofMatl            0\n",
       "Exterior1st         0\n",
       "Exterior2nd         0\n",
       "MasVnrType          0\n",
       "MasVnrArea          0\n",
       "ExterQual           0\n",
       "ExterCond           0\n",
       "Foundation          0\n",
       "BsmtQual            0\n",
       "BsmtCond            0\n",
       "BsmtExposure        0\n",
       "BsmtFinType1        0\n",
       "BsmtFinSF1          0\n",
       "BsmtFinType2        0\n",
       "BsmtFinSF2          0\n",
       "BsmtUnfSF           0\n",
       "TotalBsmtSF         0\n",
       "Heating             0\n",
       "HeatingQC           0\n",
       "CentralAir          0\n",
       "Electrical          0\n",
       "1stFlrSF            0\n",
       "2ndFlrSF            0\n",
       "LowQualFinSF        0\n",
       "GrLivArea           0\n",
       "BsmtFullBath        0\n",
       "BsmtHalfBath        0\n",
       "FullBath            0\n",
       "HalfBath            0\n",
       "BedroomAbvGr        0\n",
       "KitchenAbvGr        0\n",
       "KitchenQual         0\n",
       "TotRmsAbvGrd        0\n",
       "Functional          0\n",
       "Fireplaces          0\n",
       "GarageType          0\n",
       "GarageYrBlt       159\n",
       "GarageFinish        0\n",
       "GarageCars          0\n",
       "GarageArea          0\n",
       "GarageQual          0\n",
       "GarageCond          0\n",
       "PavedDrive          0\n",
       "WoodDeckSF          0\n",
       "OpenPorchSF         0\n",
       "EnclosedPorch       0\n",
       "3SsnPorch           0\n",
       "ScreenPorch         0\n",
       "PoolArea            0\n",
       "MiscVal             0\n",
       "MoSold              0\n",
       "YrSold              0\n",
       "SaleType            0\n",
       "SaleCondition       0\n",
       "SalePrice        1459\n",
       "dtype: int64"
      ]
     },
     "execution_count": 38,
     "metadata": {},
     "output_type": "execute_result"
    }
   ],
   "source": [
    "data.isnull().sum()"
   ]
  },
  {
   "cell_type": "code",
   "execution_count": 70,
   "id": "2a7172e6",
   "metadata": {},
   "outputs": [
    {
     "data": {
      "text/plain": [
       "Index(['Unnamed: 0', 'Id', 'MSSubClass', 'MSZoning', 'LotFrontage', 'LotArea',\n",
       "       'Street', 'LotShape', 'LandContour', 'Utilities', 'LotConfig',\n",
       "       'LandSlope', 'Neighborhood', 'Condition1', 'Condition2', 'BldgType',\n",
       "       'HouseStyle', 'OverallQual', 'OverallCond', 'YearBuilt', 'YearRemodAdd',\n",
       "       'RoofStyle', 'RoofMatl', 'Exterior1st', 'Exterior2nd', 'MasVnrType',\n",
       "       'MasVnrArea', 'ExterQual', 'ExterCond', 'Foundation', 'BsmtQual',\n",
       "       'BsmtCond', 'BsmtExposure', 'BsmtFinType1', 'BsmtFinSF1',\n",
       "       'BsmtFinType2', 'BsmtFinSF2', 'BsmtUnfSF', 'TotalBsmtSF', 'Heating',\n",
       "       'HeatingQC', 'CentralAir', 'Electrical', '1stFlrSF', '2ndFlrSF',\n",
       "       'LowQualFinSF', 'GrLivArea', 'BsmtFullBath', 'BsmtHalfBath', 'FullBath',\n",
       "       'HalfBath', 'BedroomAbvGr', 'KitchenAbvGr', 'KitchenQual',\n",
       "       'TotRmsAbvGrd', 'Functional', 'Fireplaces', 'GarageType', 'GarageYrBlt',\n",
       "       'GarageFinish', 'GarageCars', 'GarageArea', 'GarageQual', 'GarageCond',\n",
       "       'PavedDrive', 'WoodDeckSF', 'OpenPorchSF', 'EnclosedPorch', '3SsnPorch',\n",
       "       'ScreenPorch', 'PoolArea', 'MiscVal', 'MoSold', 'YrSold', 'SaleType',\n",
       "       'SaleCondition', 'SalePrice'],\n",
       "      dtype='object')"
      ]
     },
     "execution_count": 70,
     "metadata": {},
     "output_type": "execute_result"
    }
   ],
   "source": [
    "data.iloc[0].keys()"
   ]
  },
  {
   "cell_type": "code",
   "execution_count": 39,
   "id": "0dce1941",
   "metadata": {},
   "outputs": [
    {
     "name": "stdout",
     "output_type": "stream",
     "text": [
      "Unnamed: 0 : 0\n",
      "<class 'numpy.int64'>\n",
      "Id : 1\n",
      "<class 'numpy.int64'>\n",
      "MSSubClass : 60\n",
      "<class 'numpy.int64'>\n",
      "MSZoning : RL\n",
      "<class 'str'>\n",
      "LotFrontage : 65.0\n",
      "<class 'numpy.float64'>\n",
      "LotArea : 8450\n",
      "<class 'numpy.int64'>\n",
      "Street : Pave\n",
      "<class 'str'>\n",
      "LotShape : Reg\n",
      "<class 'str'>\n",
      "LandContour : Lvl\n",
      "<class 'str'>\n",
      "Utilities : AllPub\n",
      "<class 'str'>\n",
      "LotConfig : Inside\n",
      "<class 'str'>\n",
      "LandSlope : Gtl\n",
      "<class 'str'>\n",
      "Neighborhood : CollgCr\n",
      "<class 'str'>\n",
      "Condition1 : Norm\n",
      "<class 'str'>\n",
      "Condition2 : Norm\n",
      "<class 'str'>\n",
      "BldgType : 1Fam\n",
      "<class 'str'>\n",
      "HouseStyle : 2Story\n",
      "<class 'str'>\n",
      "OverallQual : 7\n",
      "<class 'numpy.int64'>\n",
      "OverallCond : 5\n",
      "<class 'numpy.int64'>\n",
      "YearBuilt : 2003\n",
      "<class 'numpy.int64'>\n",
      "YearRemodAdd : 2003\n",
      "<class 'numpy.int64'>\n",
      "RoofStyle : Gable\n",
      "<class 'str'>\n",
      "RoofMatl : CompShg\n",
      "<class 'str'>\n",
      "Exterior1st : VinylSd\n",
      "<class 'str'>\n",
      "Exterior2nd : VinylSd\n",
      "<class 'str'>\n",
      "MasVnrType : BrkFace\n",
      "<class 'str'>\n",
      "MasVnrArea : 196.0\n",
      "<class 'numpy.float64'>\n",
      "ExterQual : Gd\n",
      "<class 'str'>\n",
      "ExterCond : TA\n",
      "<class 'str'>\n",
      "Foundation : PConc\n",
      "<class 'str'>\n",
      "BsmtQual : Gd\n",
      "<class 'str'>\n",
      "BsmtCond : TA\n",
      "<class 'str'>\n",
      "BsmtExposure : No\n",
      "<class 'str'>\n",
      "BsmtFinType1 : GLQ\n",
      "<class 'str'>\n",
      "BsmtFinSF1 : 706.0\n",
      "<class 'numpy.float64'>\n",
      "BsmtFinType2 : Unf\n",
      "<class 'str'>\n",
      "BsmtFinSF2 : 0.0\n",
      "<class 'numpy.float64'>\n",
      "BsmtUnfSF : 150.0\n",
      "<class 'numpy.float64'>\n",
      "TotalBsmtSF : 856.0\n",
      "<class 'numpy.float64'>\n",
      "Heating : GasA\n",
      "<class 'str'>\n",
      "HeatingQC : Ex\n",
      "<class 'str'>\n",
      "CentralAir : Y\n",
      "<class 'str'>\n",
      "Electrical : SBrkr\n",
      "<class 'str'>\n",
      "1stFlrSF : 856\n",
      "<class 'numpy.int64'>\n",
      "2ndFlrSF : 854\n",
      "<class 'numpy.int64'>\n",
      "LowQualFinSF : 0\n",
      "<class 'numpy.int64'>\n",
      "GrLivArea : 1710\n",
      "<class 'numpy.int64'>\n",
      "BsmtFullBath : 1.0\n",
      "<class 'numpy.float64'>\n",
      "BsmtHalfBath : 0.0\n",
      "<class 'numpy.float64'>\n",
      "FullBath : 2\n",
      "<class 'numpy.int64'>\n",
      "HalfBath : 1\n",
      "<class 'numpy.int64'>\n",
      "BedroomAbvGr : 3\n",
      "<class 'numpy.int64'>\n",
      "KitchenAbvGr : 1\n",
      "<class 'numpy.int64'>\n",
      "KitchenQual : Gd\n",
      "<class 'str'>\n",
      "TotRmsAbvGrd : 8\n",
      "<class 'numpy.int64'>\n",
      "Functional : Typ\n",
      "<class 'str'>\n",
      "Fireplaces : 0\n",
      "<class 'numpy.int64'>\n",
      "GarageType : Attchd\n",
      "<class 'str'>\n",
      "GarageYrBlt : 2003.0\n",
      "<class 'numpy.float64'>\n",
      "GarageFinish : RFn\n",
      "<class 'str'>\n",
      "GarageCars : 2.0\n",
      "<class 'numpy.float64'>\n",
      "GarageArea : 548.0\n",
      "<class 'numpy.float64'>\n",
      "GarageQual : TA\n",
      "<class 'str'>\n",
      "GarageCond : TA\n",
      "<class 'str'>\n",
      "PavedDrive : Y\n",
      "<class 'str'>\n",
      "WoodDeckSF : 0\n",
      "<class 'numpy.int64'>\n",
      "OpenPorchSF : 61\n",
      "<class 'numpy.int64'>\n",
      "EnclosedPorch : 0\n",
      "<class 'numpy.int64'>\n",
      "3SsnPorch : 0\n",
      "<class 'numpy.int64'>\n",
      "ScreenPorch : 0\n",
      "<class 'numpy.int64'>\n",
      "PoolArea : 0\n",
      "<class 'numpy.int64'>\n",
      "MiscVal : 0\n",
      "<class 'numpy.int64'>\n",
      "MoSold : 2\n",
      "<class 'numpy.int64'>\n",
      "YrSold : 2008\n",
      "<class 'numpy.int64'>\n",
      "SaleType : WD\n",
      "<class 'str'>\n",
      "SaleCondition : Normal\n",
      "<class 'str'>\n",
      "SalePrice : 208500.0\n",
      "<class 'numpy.float64'>\n"
     ]
    }
   ],
   "source": [
    "# lest look at the values of first row and the types:\n",
    "for key,value in zip(data.iloc[0].keys(),data.iloc[0].values):\n",
    "    print(key,\":\",value)\n",
    "    print(type(value))"
   ]
  },
  {
   "cell_type": "code",
   "execution_count": 12,
   "id": "b571bf73",
   "metadata": {},
   "outputs": [
    {
     "data": {
      "text/plain": [
       "(1459, 77)"
      ]
     },
     "execution_count": 12,
     "metadata": {},
     "output_type": "execute_result"
    }
   ],
   "source": [
    "YearBuilt ,YearRemodAdd,GarageYrBlt"
   ]
  },
  {
   "cell_type": "code",
   "execution_count": 9,
   "id": "bd784278",
   "metadata": {},
   "outputs": [],
   "source": [
    "import datetime as dt"
   ]
  },
  {
   "cell_type": "code",
   "execution_count": 22,
   "id": "6dec3f90",
   "metadata": {},
   "outputs": [],
   "source": [
    "data[\"GarageYrBlt\"].replace(0,np.nan,inplace=True)"
   ]
  },
  {
   "cell_type": "code",
   "execution_count": 25,
   "id": "3b4c544e",
   "metadata": {},
   "outputs": [
    {
     "data": {
      "text/plain": [
       "159"
      ]
     },
     "execution_count": 25,
     "metadata": {},
     "output_type": "execute_result"
    }
   ],
   "source": [
    "data[\"GarageYrBlt\"].isnull().sum()"
   ]
  },
  {
   "cell_type": "code",
   "execution_count": 37,
   "id": "1fdc7be8",
   "metadata": {},
   "outputs": [],
   "source": [
    "data[\"GarageYrBlt\"]=data[\"GarageYrBlt\"].astype(\"float\")"
   ]
  },
  {
   "cell_type": "code",
   "execution_count": 33,
   "id": "c50886ba",
   "metadata": {},
   "outputs": [
    {
     "data": {
      "text/plain": [
       "0       2003.0\n",
       "1       1976.0\n",
       "2       2001.0\n",
       "3       1998.0\n",
       "4       2000.0\n",
       "         ...  \n",
       "2914       NaN\n",
       "2915    1970.0\n",
       "2916    1960.0\n",
       "2917       NaN\n",
       "2918    1993.0\n",
       "Name: GarageYrBlt, Length: 2919, dtype: float64"
      ]
     },
     "execution_count": 33,
     "metadata": {},
     "output_type": "execute_result"
    }
   ],
   "source": [
    "y=pd.to_datetime(data[\"GarageYrBlt\"],format='%Y')\n",
    "y.dt.year"
   ]
  },
  {
   "cell_type": "code",
   "execution_count": 40,
   "id": "2f70f4fc",
   "metadata": {},
   "outputs": [],
   "source": [
    "data.to_csv(\"house_price_part1.csv\")"
   ]
  },
  {
   "cell_type": "code",
   "execution_count": null,
   "id": "ab9486c2",
   "metadata": {},
   "outputs": [],
   "source": []
  },
  {
   "cell_type": "markdown",
   "id": "e8ac8f6b",
   "metadata": {},
   "source": [
    "We can asume that our data is in the right format"
   ]
  },
  {
   "cell_type": "code",
   "execution_count": 41,
   "id": "82719845",
   "metadata": {},
   "outputs": [
    {
     "data": {
      "text/html": [
       "<div>\n",
       "<style scoped>\n",
       "    .dataframe tbody tr th:only-of-type {\n",
       "        vertical-align: middle;\n",
       "    }\n",
       "\n",
       "    .dataframe tbody tr th {\n",
       "        vertical-align: top;\n",
       "    }\n",
       "\n",
       "    .dataframe thead th {\n",
       "        text-align: right;\n",
       "    }\n",
       "</style>\n",
       "<table border=\"1\" class=\"dataframe\">\n",
       "  <thead>\n",
       "    <tr style=\"text-align: right;\">\n",
       "      <th></th>\n",
       "      <th>House</th>\n",
       "      <th>GarageType</th>\n",
       "      <th>Garage_year_of_Built</th>\n",
       "    </tr>\n",
       "  </thead>\n",
       "  <tbody>\n",
       "    <tr>\n",
       "      <th>0</th>\n",
       "      <td>1</td>\n",
       "      <td>A</td>\n",
       "      <td>2000</td>\n",
       "    </tr>\n",
       "    <tr>\n",
       "      <th>1</th>\n",
       "      <td>2</td>\n",
       "      <td>B</td>\n",
       "      <td>2015</td>\n",
       "    </tr>\n",
       "    <tr>\n",
       "      <th>2</th>\n",
       "      <td>3</td>\n",
       "      <td>C</td>\n",
       "      <td>2017</td>\n",
       "    </tr>\n",
       "    <tr>\n",
       "      <th>3</th>\n",
       "      <td>4</td>\n",
       "      <td>No Garage</td>\n",
       "      <td>No Garage</td>\n",
       "    </tr>\n",
       "    <tr>\n",
       "      <th>4</th>\n",
       "      <td>5</td>\n",
       "      <td>E</td>\n",
       "      <td>2010</td>\n",
       "    </tr>\n",
       "  </tbody>\n",
       "</table>\n",
       "</div>"
      ],
      "text/plain": [
       "   House GarageType Garage_year_of_Built\n",
       "0      1          A                 2000\n",
       "1      2          B                 2015\n",
       "2      3          C                 2017\n",
       "3      4  No Garage            No Garage\n",
       "4      5          E                 2010"
      ]
     },
     "execution_count": 41,
     "metadata": {},
     "output_type": "execute_result"
    }
   ],
   "source": [
    "d=pd.DataFrame({\"House\":[1,2,3,4,5],\"GarageType\":[\"A\",\"B\",\"C\",\"No Garage\",\"E\"],\n",
    " \"Garage_year_of_Built\":[2000,2015,2017,\"No Garage\",2010]})\n",
    "d"
   ]
  },
  {
   "cell_type": "code",
   "execution_count": null,
   "id": "c79d16c9",
   "metadata": {},
   "outputs": [],
   "source": []
  }
 ],
 "metadata": {
  "kernelspec": {
   "display_name": "Python 3 (ipykernel)",
   "language": "python",
   "name": "python3"
  },
  "language_info": {
   "codemirror_mode": {
    "name": "ipython",
    "version": 3
   },
   "file_extension": ".py",
   "mimetype": "text/x-python",
   "name": "python",
   "nbconvert_exporter": "python",
   "pygments_lexer": "ipython3",
   "version": "3.10.9"
  }
 },
 "nbformat": 4,
 "nbformat_minor": 5
}
