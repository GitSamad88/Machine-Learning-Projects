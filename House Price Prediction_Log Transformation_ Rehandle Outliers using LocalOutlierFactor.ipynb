{
 "cells": [
  {
   "cell_type": "markdown",
   "id": "7461ea7f",
   "metadata": {},
   "source": [
    "# <center> House Price Prediction\n",
    "## <center> Log Transformation and Re-handling Outliers using LocalOutlierFactor"
   ]
  },
  {
   "cell_type": "code",
   "execution_count": 66,
   "id": "dc3e8918",
   "metadata": {},
   "outputs": [],
   "source": [
    "import pandas as pd\n",
    "import numpy as np\n",
    "import matplotlib.pyplot as plt\n",
    "import seaborn as sns\n",
    "import plotly.express as px\n",
    "import datetime\n",
    "\n",
    "\n",
    "import xgboost\n",
    "from xgboost import XGBRegressor\n",
    "from xgboost import XGBClassifier\n",
    "import sklearn\n",
    "from sklearn.model_selection import train_test_split,RandomizedSearchCV\n",
    "from sklearn.metrics import r2_score, mean_squared_error as mse, mean_absolute_error as mae\n",
    "\n",
    "\n",
    "\n",
    "\n",
    "import warnings\n",
    "warnings.filterwarnings(\"ignore\")"
   ]
  },
  {
   "cell_type": "code",
   "execution_count": 67,
   "id": "a2259406",
   "metadata": {},
   "outputs": [],
   "source": [
    "pd.set_option(\"display.max_columns\",100)\n",
    "pd.set_option(\"display.max_rows\",100)"
   ]
  },
  {
   "cell_type": "code",
   "execution_count": 68,
   "id": "743396f6",
   "metadata": {},
   "outputs": [],
   "source": [
    "#data=pd.read_csv(\"house_price_part1.csv\")\n",
    "#data.info()\n",
    "train_data=pd.read_csv(\"cars_price_prediction_22_features.csv\")\n",
    "train_data[\"AgeRemodAdd\"]=datetime.datetime.now().year-train_data[\"YearRemodAdd\"]"
   ]
  },
  {
   "cell_type": "code",
   "execution_count": 69,
   "id": "2a884763",
   "metadata": {},
   "outputs": [],
   "source": [
    "train_data.drop(columns=[\"YearRemodAdd\"],inplace=True)"
   ]
  },
  {
   "cell_type": "code",
   "execution_count": 70,
   "id": "6a1ceccb",
   "metadata": {},
   "outputs": [
    {
     "name": "stdout",
     "output_type": "stream",
     "text": [
      "<class 'pandas.core.frame.DataFrame'>\n",
      "RangeIndex: 1318 entries, 0 to 1317\n",
      "Data columns (total 23 columns):\n",
      " #   Column         Non-Null Count  Dtype  \n",
      "---  ------         --------------  -----  \n",
      " 0   Unnamed: 0     1318 non-null   int64  \n",
      " 1   OverallQual    1318 non-null   int64  \n",
      " 2   GarageCars     1318 non-null   float64\n",
      " 3   FullBath       1318 non-null   int64  \n",
      " 4   TotRmsAbvGrd   1318 non-null   int64  \n",
      " 5   SalePrice      1318 non-null   float64\n",
      " 6   BsmtQual       1318 non-null   object \n",
      " 7   BsmtCond       1318 non-null   object \n",
      " 8   ExterQual      1318 non-null   object \n",
      " 9   Foundation     1318 non-null   object \n",
      " 10  GarageFinish   1318 non-null   object \n",
      " 11  HeatingQC      1318 non-null   object \n",
      " 12  KitchenQual    1318 non-null   object \n",
      " 13  BsmtFinType1   1318 non-null   object \n",
      " 14  Condition2     1318 non-null   object \n",
      " 15  HouseStyle     1318 non-null   object \n",
      " 16  Exterior1st    1318 non-null   object \n",
      " 17  Age            1318 non-null   int64  \n",
      " 18  GrLivArea_m2   1318 non-null   float64\n",
      " 19  GarageArea_m2  1318 non-null   float64\n",
      " 20  TotalBsmt_m2   1318 non-null   float64\n",
      " 21  1stFlr_m2      1318 non-null   float64\n",
      " 22  AgeRemodAdd    1318 non-null   int64  \n",
      "dtypes: float64(6), int64(6), object(11)\n",
      "memory usage: 237.0+ KB\n"
     ]
    }
   ],
   "source": [
    "train_data.info()"
   ]
  },
  {
   "cell_type": "code",
   "execution_count": 71,
   "id": "b32afbe9",
   "metadata": {},
   "outputs": [],
   "source": [
    "X=train_data.drop(columns=\"SalePrice\")\n",
    "Y=train_data[\"SalePrice\"]"
   ]
  },
  {
   "cell_type": "code",
   "execution_count": 72,
   "id": "187b8f86",
   "metadata": {},
   "outputs": [
    {
     "name": "stdout",
     "output_type": "stream",
     "text": [
      "<class 'pandas.core.frame.DataFrame'>\n",
      "RangeIndex: 1318 entries, 0 to 1317\n",
      "Data columns (total 22 columns):\n",
      " #   Column         Non-Null Count  Dtype   \n",
      "---  ------         --------------  -----   \n",
      " 0   Unnamed: 0     1318 non-null   int64   \n",
      " 1   OverallQual    1318 non-null   int64   \n",
      " 2   GarageCars     1318 non-null   float64 \n",
      " 3   FullBath       1318 non-null   int64   \n",
      " 4   TotRmsAbvGrd   1318 non-null   int64   \n",
      " 5   Age            1318 non-null   int64   \n",
      " 6   GrLivArea_m2   1318 non-null   float64 \n",
      " 7   GarageArea_m2  1318 non-null   float64 \n",
      " 8   TotalBsmt_m2   1318 non-null   float64 \n",
      " 9   1stFlr_m2      1318 non-null   float64 \n",
      " 10  AgeRemodAdd    1318 non-null   int64   \n",
      " 11  BsmtQual       1318 non-null   category\n",
      " 12  BsmtCond       1318 non-null   category\n",
      " 13  ExterQual      1318 non-null   category\n",
      " 14  Foundation     1318 non-null   category\n",
      " 15  GarageFinish   1318 non-null   category\n",
      " 16  HeatingQC      1318 non-null   category\n",
      " 17  KitchenQual    1318 non-null   category\n",
      " 18  BsmtFinType1   1318 non-null   category\n",
      " 19  Condition2     1318 non-null   category\n",
      " 20  HouseStyle     1318 non-null   category\n",
      " 21  Exterior1st    1318 non-null   category\n",
      "dtypes: category(11), float64(5), int64(6)\n",
      "memory usage: 130.3 KB\n"
     ]
    }
   ],
   "source": [
    "num_df=X.select_dtypes(exclude=\"object\")\n",
    "cat_df=X.select_dtypes(include=\"object\")\n",
    "cat_df=cat_df.astype(\"category\")\n",
    "x=pd.concat([num_df,cat_df],axis=1)\n",
    "x.info()"
   ]
  },
  {
   "cell_type": "code",
   "execution_count": 75,
   "id": "38b660ca",
   "metadata": {},
   "outputs": [
    {
     "name": "stdout",
     "output_type": "stream",
     "text": [
      "(988, 22) (988,) (330, 22) (330,)\n"
     ]
    }
   ],
   "source": [
    "x_train,x_test,y_train,y_test=train_test_split(x,Y,test_size=0.25,random_state=123)\n",
    "print(x_train.shape,\n",
    "      y_train.shape,\n",
    "      x_test.shape,\n",
    "      y_test.shape)"
   ]
  },
  {
   "cell_type": "code",
   "execution_count": 76,
   "id": "042d846f",
   "metadata": {},
   "outputs": [],
   "source": [
    "model_=[]\n",
    "score_=[]\n",
    "def predict(ml_model):\n",
    "    #print('Model is: {}'.format(ml_model))\n",
    "    model= ml_model.fit(x_train,y_train)\n",
    "    print(\"Training score: {}\".format(model.score(x_train,y_train)))\n",
    "    predictions = model.predict(x_test)\n",
    "    print(\"Predictions are: {}\".format(predictions[0:5]))\n",
    "    print('\\n')\n",
    "    r2score=r2_score(y_test,predictions) \n",
    "    print(\"r2 score is: {}\".format(r2score))\n",
    "          \n",
    "    print('MAE:{}'.format(mse(y_test,predictions)))\n",
    "    print('MSE:{}'.format(mse(y_test,predictions)))\n",
    "    print('RMSE:{}'.format(np.sqrt(mse(y_test,predictions))))\n",
    "    model_.append(type(ml_model).__name__)\n",
    "    score_.append(np.round(r2score,2))\n",
    "    \n",
    "     \n",
    "    sns.distplot(y_test-predictions)      \n",
    "          "
   ]
  },
  {
   "cell_type": "code",
   "execution_count": 77,
   "id": "292ece18",
   "metadata": {},
   "outputs": [
    {
     "name": "stdout",
     "output_type": "stream",
     "text": [
      "Training score: 0.9783674762148753\n",
      "Predictions are: [120816.64  107756.766 216089.52  190764.4    55038.1  ]\n",
      "\n",
      "\n",
      "r2 score is: 0.8706432626642646\n",
      "MAE:656524834.5684648\n",
      "MSE:656524834.5684648\n",
      "RMSE:25622.740574896838\n"
     ]
    },
    {
     "data": {
      "image/png": "[encoded data removed]",
      "text/plain": [
       "<Figure size 640x480 with 1 Axes>"
      ]
     },
     "metadata": {},
     "output_type": "display_data"
    }
   ],
   "source": [
    "xgb_best_param2=XGBRegressor(\n",
    " subsample =0.731,\n",
    " enable_categorical=True,\n",
    " tree_method=\"hist\",\n",
    " random_state=123,\n",
    " reg_lambda= 0.4631,\n",
    " reg_alpha= 0.4,\n",
    " n_estimators= 538,\n",
    " max_depth= 3,\n",
    " max_cat_to_onehot=1,\n",
    " learning_rate= 0.09,\n",
    " colsample_bytree= 0.29,\n",
    " colsample_bynode= 0.8,\n",
    " colsample_bylevel= 0.9,\n",
    " min_child_weight=0.8\n",
    ")\n",
    "predict(xgb_best_param2)"
   ]
  },
  {
   "cell_type": "code",
   "execution_count": null,
   "id": "9b94364d",
   "metadata": {},
   "outputs": [],
   "source": []
  },
  {
   "cell_type": "code",
   "execution_count": null,
   "id": "9a4971ec",
   "metadata": {},
   "outputs": [],
   "source": []
  },
  {
   "cell_type": "code",
   "execution_count": null,
   "id": "dfa4abb7",
   "metadata": {},
   "outputs": [],
   "source": []
  },
  {
   "cell_type": "code",
   "execution_count": null,
   "id": "5a7b76a1",
   "metadata": {},
   "outputs": [],
   "source": []
  },
  {
   "cell_type": "code",
   "execution_count": 62,
   "id": "91dbda87",
   "metadata": {},
   "outputs": [
    {
     "data": {
      "text/plain": [
       "<Axes: xlabel='Age', ylabel='Count'>"
      ]
     },
     "execution_count": 62,
     "metadata": {},
     "output_type": "execute_result"
    },
    {
     "data": {
      "image/png": "[encoded data removed]",
      "text/plain": [
       "<Figure size 640x480 with 1 Axes>"
      ]
     },
     "metadata": {},
     "output_type": "display_data"
    }
   ],
   "source": [
    "#sns.histplot(train_data,x=\"Age\",kde=True)\n",
    "log_age=np.log10(train_data[\"Age\"])\n",
    "log_age=log_age.to_frame()\n",
    "sns.histplot(log_age,x=\"Age\",kde=True)\n"
   ]
  },
  {
   "cell_type": "code",
   "execution_count": null,
   "id": "557204a7",
   "metadata": {},
   "outputs": [],
   "source": []
  },
  {
   "cell_type": "code",
   "execution_count": null,
   "id": "70830a87",
   "metadata": {},
   "outputs": [],
   "source": []
  },
  {
   "cell_type": "code",
   "execution_count": null,
   "id": "9eee9060",
   "metadata": {},
   "outputs": [],
   "source": []
  },
  {
   "cell_type": "code",
   "execution_count": null,
   "id": "8b51d491",
   "metadata": {},
   "outputs": [],
   "source": []
  }
 ],
 "metadata": {
  "kernelspec": {
   "display_name": "Python 3 (ipykernel)",
   "language": "python",
   "name": "python3"
  },
  "language_info": {
   "codemirror_mode": {
    "name": "ipython",
    "version": 3
   },
   "file_extension": ".py",
   "mimetype": "text/x-python",
   "name": "python",
   "nbconvert_exporter": "python",
   "pygments_lexer": "ipython3",
   "version": "3.10.9"
  }
 },
 "nbformat": 4,
 "nbformat_minor": 5
}
