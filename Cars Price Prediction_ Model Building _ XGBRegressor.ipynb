{
 "cells": [
  {
   "cell_type": "markdown",
   "id": "4ce711c7",
   "metadata": {},
   "source": [
    "# <center> Cars Price Prediction\n",
    "## <center> Module Building : XGBRegressor"
   ]
  },
  {
   "cell_type": "markdown",
   "id": "5d5b3c0c",
   "metadata": {},
   "source": [
    "<img src=\"Red-sport-car-isolated-on-transparent-background-PNG.png\"     img>"
   ]
  },
  {
   "cell_type": "code",
   "execution_count": 15,
   "id": "c47b4335",
   "metadata": {},
   "outputs": [],
   "source": [
    "import pandas as pd\n",
    "import numpy as np\n",
    "import matplotlib.pyplot as plt\n",
    "import sklearn \n",
    "from sklearn.preprocessing import StandardScaler,LabelEncoder,OneHotEncoder,PolynomialFeatures\n",
    "#from sklearn.linear_modele import LinearRegression\n",
    "import seaborn as sns\n",
    "import xgboost \n",
    "from sklearn.model_selection import train_test_split,RandomizedSearchCV,GridSearchCV,cross_val_score,cross_val_predict\n",
    "from sklearn.metrics import r2_score,mean_absolute_error as mae,mean_squared_error as mse"
   ]
  },
  {
   "cell_type": "code",
   "execution_count": 2,
   "id": "9972e190",
   "metadata": {},
   "outputs": [
    {
     "data": {
      "text/html": [
       "<div>\n",
       "<style scoped>\n",
       "    .dataframe tbody tr th:only-of-type {\n",
       "        vertical-align: middle;\n",
       "    }\n",
       "\n",
       "    .dataframe tbody tr th {\n",
       "        vertical-align: top;\n",
       "    }\n",
       "\n",
       "    .dataframe thead th {\n",
       "        text-align: right;\n",
       "    }\n",
       "</style>\n",
       "<table border=\"1\" class=\"dataframe\">\n",
       "  <thead>\n",
       "    <tr style=\"text-align: right;\">\n",
       "      <th></th>\n",
       "      <th>Unnamed: 0.2</th>\n",
       "      <th>Unnamed: 0.1</th>\n",
       "      <th>Unnamed: 0</th>\n",
       "      <th>mark_model</th>\n",
       "      <th>Year</th>\n",
       "      <th>Power</th>\n",
       "      <th>Location</th>\n",
       "      <th>Kilométrage</th>\n",
       "      <th>Boite_de_vitesses</th>\n",
       "      <th>Date</th>\n",
       "      <th>...</th>\n",
       "      <th>Non_fumeur</th>\n",
       "      <th>Système_d'identification_du_conducteur</th>\n",
       "      <th>Radar_de_recul</th>\n",
       "      <th>Limiteur_de_vitesse</th>\n",
       "      <th>Verrouillage_centralisé_à_distance</th>\n",
       "      <th>Mark</th>\n",
       "      <th>Model</th>\n",
       "      <th>Annonce Month</th>\n",
       "      <th>Annonce Day</th>\n",
       "      <th>Annonce Year</th>\n",
       "    </tr>\n",
       "  </thead>\n",
       "  <tbody>\n",
       "    <tr>\n",
       "      <th>0</th>\n",
       "      <td>0</td>\n",
       "      <td>0</td>\n",
       "      <td>3</td>\n",
       "      <td>PEUGEOT 206</td>\n",
       "      <td>2002</td>\n",
       "      <td>Diesel</td>\n",
       "      <td>Chefchaouen</td>\n",
       "      <td>300000.0</td>\n",
       "      <td>Manuelle</td>\n",
       "      <td>2022-01-31</td>\n",
       "      <td>...</td>\n",
       "      <td>0</td>\n",
       "      <td>0</td>\n",
       "      <td>0</td>\n",
       "      <td>0</td>\n",
       "      <td>0</td>\n",
       "      <td>PEUGEOT</td>\n",
       "      <td>206</td>\n",
       "      <td>1</td>\n",
       "      <td>31</td>\n",
       "      <td>2022</td>\n",
       "    </tr>\n",
       "    <tr>\n",
       "      <th>1</th>\n",
       "      <td>1</td>\n",
       "      <td>1</td>\n",
       "      <td>4</td>\n",
       "      <td>NISSAN Micra</td>\n",
       "      <td>2021</td>\n",
       "      <td>Diesel</td>\n",
       "      <td>Casablanca</td>\n",
       "      <td>70000.0</td>\n",
       "      <td>Manuelle</td>\n",
       "      <td>2022-07-19</td>\n",
       "      <td>...</td>\n",
       "      <td>1</td>\n",
       "      <td>1</td>\n",
       "      <td>1</td>\n",
       "      <td>1</td>\n",
       "      <td>1</td>\n",
       "      <td>NISSAN</td>\n",
       "      <td>Micra</td>\n",
       "      <td>7</td>\n",
       "      <td>19</td>\n",
       "      <td>2022</td>\n",
       "    </tr>\n",
       "    <tr>\n",
       "      <th>2</th>\n",
       "      <td>2</td>\n",
       "      <td>2</td>\n",
       "      <td>7</td>\n",
       "      <td>HYUNDAI Santa fe</td>\n",
       "      <td>2016</td>\n",
       "      <td>Diesel</td>\n",
       "      <td>Casablanca</td>\n",
       "      <td>155000.0</td>\n",
       "      <td>Automatique</td>\n",
       "      <td>2022-04-15</td>\n",
       "      <td>...</td>\n",
       "      <td>1</td>\n",
       "      <td>1</td>\n",
       "      <td>0</td>\n",
       "      <td>0</td>\n",
       "      <td>0</td>\n",
       "      <td>HYUNDAI</td>\n",
       "      <td>Santa fe</td>\n",
       "      <td>4</td>\n",
       "      <td>15</td>\n",
       "      <td>2022</td>\n",
       "    </tr>\n",
       "    <tr>\n",
       "      <th>3</th>\n",
       "      <td>3</td>\n",
       "      <td>3</td>\n",
       "      <td>9</td>\n",
       "      <td>FIAT Ducato</td>\n",
       "      <td>2006</td>\n",
       "      <td>Diesel</td>\n",
       "      <td>Temara</td>\n",
       "      <td>154000.0</td>\n",
       "      <td>Manuelle</td>\n",
       "      <td>2021-11-22</td>\n",
       "      <td>...</td>\n",
       "      <td>0</td>\n",
       "      <td>0</td>\n",
       "      <td>0</td>\n",
       "      <td>0</td>\n",
       "      <td>0</td>\n",
       "      <td>FIAT</td>\n",
       "      <td>Ducato</td>\n",
       "      <td>11</td>\n",
       "      <td>22</td>\n",
       "      <td>2021</td>\n",
       "    </tr>\n",
       "    <tr>\n",
       "      <th>4</th>\n",
       "      <td>4</td>\n",
       "      <td>4</td>\n",
       "      <td>10</td>\n",
       "      <td>PEUGEOT Boxer</td>\n",
       "      <td>2016</td>\n",
       "      <td>Diesel</td>\n",
       "      <td>Nador</td>\n",
       "      <td>93000.0</td>\n",
       "      <td>Manuelle</td>\n",
       "      <td>2021-06-26</td>\n",
       "      <td>...</td>\n",
       "      <td>0</td>\n",
       "      <td>0</td>\n",
       "      <td>0</td>\n",
       "      <td>0</td>\n",
       "      <td>0</td>\n",
       "      <td>PEUGEOT</td>\n",
       "      <td>Boxer</td>\n",
       "      <td>6</td>\n",
       "      <td>26</td>\n",
       "      <td>2021</td>\n",
       "    </tr>\n",
       "  </tbody>\n",
       "</table>\n",
       "<p>5 rows × 64 columns</p>\n",
       "</div>"
      ],
      "text/plain": [
       "   Unnamed: 0.2  Unnamed: 0.1  Unnamed: 0        mark_model  Year   Power  \\\n",
       "0             0             0           3       PEUGEOT 206  2002  Diesel   \n",
       "1             1             1           4      NISSAN Micra  2021  Diesel   \n",
       "2             2             2           7  HYUNDAI Santa fe  2016  Diesel   \n",
       "3             3             3           9       FIAT Ducato  2006  Diesel   \n",
       "4             4             4          10     PEUGEOT Boxer  2016  Diesel   \n",
       "\n",
       "      Location  Kilométrage Boite_de_vitesses        Date  ...  Non_fumeur  \\\n",
       "0  Chefchaouen     300000.0          Manuelle  2022-01-31  ...           0   \n",
       "1   Casablanca      70000.0          Manuelle  2022-07-19  ...           1   \n",
       "2   Casablanca     155000.0       Automatique  2022-04-15  ...           1   \n",
       "3       Temara     154000.0          Manuelle  2021-11-22  ...           0   \n",
       "4        Nador      93000.0          Manuelle  2021-06-26  ...           0   \n",
       "\n",
       "   Système_d'identification_du_conducteur  Radar_de_recul Limiteur_de_vitesse  \\\n",
       "0                                       0               0                   0   \n",
       "1                                       1               1                   1   \n",
       "2                                       1               0                   0   \n",
       "3                                       0               0                   0   \n",
       "4                                       0               0                   0   \n",
       "\n",
       "  Verrouillage_centralisé_à_distance     Mark     Model  Annonce Month  \\\n",
       "0                                  0  PEUGEOT       206              1   \n",
       "1                                  1   NISSAN     Micra              7   \n",
       "2                                  0  HYUNDAI  Santa fe              4   \n",
       "3                                  0     FIAT    Ducato             11   \n",
       "4                                  0  PEUGEOT     Boxer              6   \n",
       "\n",
       "   Annonce Day  Annonce Year  \n",
       "0           31          2022  \n",
       "1           19          2022  \n",
       "2           15          2022  \n",
       "3           22          2021  \n",
       "4           26          2021  \n",
       "\n",
       "[5 rows x 64 columns]"
      ]
     },
     "execution_count": 2,
     "metadata": {},
     "output_type": "execute_result"
    }
   ],
   "source": [
    "df=pd.read_csv(\"Car Price Data_After_EDA.csv\")\n",
    "df.head()"
   ]
  },
  {
   "cell_type": "code",
   "execution_count": 3,
   "id": "274961fd",
   "metadata": {},
   "outputs": [],
   "source": [
    "df.drop(columns=[\"Link\",\"mark_model\",\"Date\",\"Unnamed: 0.2\",\"Unnamed: 0.1\",\"Unnamed: 0\"],inplace=True)"
   ]
  },
  {
   "cell_type": "code",
   "execution_count": 4,
   "id": "0b96849b",
   "metadata": {},
   "outputs": [
    {
     "data": {
      "text/html": [
       "<div>\n",
       "<style scoped>\n",
       "    .dataframe tbody tr th:only-of-type {\n",
       "        vertical-align: middle;\n",
       "    }\n",
       "\n",
       "    .dataframe tbody tr th {\n",
       "        vertical-align: top;\n",
       "    }\n",
       "\n",
       "    .dataframe thead th {\n",
       "        text-align: right;\n",
       "    }\n",
       "</style>\n",
       "<table border=\"1\" class=\"dataframe\">\n",
       "  <thead>\n",
       "    <tr style=\"text-align: right;\">\n",
       "      <th></th>\n",
       "      <th>Year</th>\n",
       "      <th>Power</th>\n",
       "      <th>Location</th>\n",
       "      <th>Kilométrage</th>\n",
       "      <th>Boite_de_vitesses</th>\n",
       "      <th>Puissance_fiscale</th>\n",
       "      <th>Nombre_de_portes</th>\n",
       "      <th>Première_main</th>\n",
       "      <th>Couleur</th>\n",
       "      <th>Carrosserie</th>\n",
       "      <th>Price</th>\n",
       "      <th>Mark</th>\n",
       "      <th>Model</th>\n",
       "    </tr>\n",
       "  </thead>\n",
       "  <tbody>\n",
       "    <tr>\n",
       "      <th>0</th>\n",
       "      <td>2002</td>\n",
       "      <td>Diesel</td>\n",
       "      <td>Chefchaouen</td>\n",
       "      <td>300000.0</td>\n",
       "      <td>Manuelle</td>\n",
       "      <td>7.0</td>\n",
       "      <td>5.0</td>\n",
       "      <td>0</td>\n",
       "      <td>Noir</td>\n",
       "      <td>Citadine</td>\n",
       "      <td>45000.0</td>\n",
       "      <td>PEUGEOT</td>\n",
       "      <td>206</td>\n",
       "    </tr>\n",
       "    <tr>\n",
       "      <th>1</th>\n",
       "      <td>2021</td>\n",
       "      <td>Diesel</td>\n",
       "      <td>Casablanca</td>\n",
       "      <td>70000.0</td>\n",
       "      <td>Manuelle</td>\n",
       "      <td>6.0</td>\n",
       "      <td>5.0</td>\n",
       "      <td>1</td>\n",
       "      <td>Bordeaux</td>\n",
       "      <td>Citadine</td>\n",
       "      <td>158000.0</td>\n",
       "      <td>NISSAN</td>\n",
       "      <td>Micra</td>\n",
       "    </tr>\n",
       "    <tr>\n",
       "      <th>2</th>\n",
       "      <td>2016</td>\n",
       "      <td>Diesel</td>\n",
       "      <td>Casablanca</td>\n",
       "      <td>155000.0</td>\n",
       "      <td>Automatique</td>\n",
       "      <td>9.0</td>\n",
       "      <td>5.0</td>\n",
       "      <td>1</td>\n",
       "      <td>Noir</td>\n",
       "      <td>Suv et 4x4</td>\n",
       "      <td>225000.0</td>\n",
       "      <td>HYUNDAI</td>\n",
       "      <td>Santa fe</td>\n",
       "    </tr>\n",
       "    <tr>\n",
       "      <th>3</th>\n",
       "      <td>2006</td>\n",
       "      <td>Diesel</td>\n",
       "      <td>Temara</td>\n",
       "      <td>154000.0</td>\n",
       "      <td>Manuelle</td>\n",
       "      <td>11.0</td>\n",
       "      <td>4.0</td>\n",
       "      <td>1</td>\n",
       "      <td>Blanc cassé</td>\n",
       "      <td>Utilitaire (van)</td>\n",
       "      <td>300000.0</td>\n",
       "      <td>FIAT</td>\n",
       "      <td>Ducato</td>\n",
       "    </tr>\n",
       "    <tr>\n",
       "      <th>4</th>\n",
       "      <td>2016</td>\n",
       "      <td>Diesel</td>\n",
       "      <td>Nador</td>\n",
       "      <td>93000.0</td>\n",
       "      <td>Manuelle</td>\n",
       "      <td>9.0</td>\n",
       "      <td>5.0</td>\n",
       "      <td>1</td>\n",
       "      <td>Blanc</td>\n",
       "      <td>Utilitaire (van)</td>\n",
       "      <td>162000.0</td>\n",
       "      <td>PEUGEOT</td>\n",
       "      <td>Boxer</td>\n",
       "    </tr>\n",
       "  </tbody>\n",
       "</table>\n",
       "</div>"
      ],
      "text/plain": [
       "   Year   Power     Location  Kilométrage Boite_de_vitesses  \\\n",
       "0  2002  Diesel  Chefchaouen     300000.0          Manuelle   \n",
       "1  2021  Diesel   Casablanca      70000.0          Manuelle   \n",
       "2  2016  Diesel   Casablanca     155000.0       Automatique   \n",
       "3  2006  Diesel       Temara     154000.0          Manuelle   \n",
       "4  2016  Diesel        Nador      93000.0          Manuelle   \n",
       "\n",
       "   Puissance_fiscale  Nombre_de_portes  Première_main      Couleur  \\\n",
       "0                7.0               5.0              0         Noir   \n",
       "1                6.0               5.0              1     Bordeaux   \n",
       "2                9.0               5.0              1         Noir   \n",
       "3               11.0               4.0              1  Blanc cassé   \n",
       "4                9.0               5.0              1        Blanc   \n",
       "\n",
       "        Carrosserie     Price     Mark     Model  \n",
       "0          Citadine   45000.0  PEUGEOT       206  \n",
       "1          Citadine  158000.0   NISSAN     Micra  \n",
       "2        Suv et 4x4  225000.0  HYUNDAI  Santa fe  \n",
       "3  Utilitaire (van)  300000.0     FIAT    Ducato  \n",
       "4  Utilitaire (van)  162000.0  PEUGEOT     Boxer  "
      ]
     },
     "execution_count": 4,
     "metadata": {},
     "output_type": "execute_result"
    }
   ],
   "source": [
    "df=df[['Year', 'Power', 'Location', 'Kilométrage', 'Boite_de_vitesses',\n",
    "       'Puissance_fiscale', 'Nombre_de_portes', 'Première_main', 'Couleur',\n",
    "       'Carrosserie', 'Price','Mark',\n",
    "       'Model']]\n",
    "df.head()"
   ]
  },
  {
   "cell_type": "code",
   "execution_count": 5,
   "id": "f74b552c",
   "metadata": {},
   "outputs": [
    {
     "data": {
      "text/plain": [
       "array(['Citadine', 'Compact', 'Coupé', 'Not Specified'], dtype=object)"
      ]
     },
     "execution_count": 5,
     "metadata": {},
     "output_type": "execute_result"
    }
   ],
   "source": [
    "peugeot=df[df[\"Mark\"]==\"PEUGEOT\"]#[\"Model\"]==\"208\"]\n",
    "peugeot[peugeot[\"Model\"]==\"208\"][\"Carrosserie\"].unique()"
   ]
  },
  {
   "cell_type": "code",
   "execution_count": 6,
   "id": "29ab9a0e",
   "metadata": {},
   "outputs": [
    {
     "name": "stdout",
     "output_type": "stream",
     "text": [
      "(13367, 12) (13367,) (5729, 12) (5729,)\n"
     ]
    }
   ],
   "source": [
    "Y=df[\"Price\"]\n",
    "X=df.drop(columns=[\"Price\"])\n",
    "\n",
    "num_df=X.select_dtypes(exclude=\"object\")\n",
    "cat_df=X.select_dtypes(include=\"object\")\n",
    "cat_df=cat_df.astype(\"category\")\n",
    "x=pd.concat([num_df,cat_df],axis=1)\n",
    "\n",
    "\n",
    "x_train,x_test,y_train,y_test=train_test_split(x,Y,test_size=0.3,random_state=123)\n",
    "print(x_train.shape,y_train.shape,x_test.shape,y_test.shape)"
   ]
  },
  {
   "cell_type": "code",
   "execution_count": 7,
   "id": "d026bdf1",
   "metadata": {},
   "outputs": [],
   "source": [
    "model_=[]\n",
    "score_=[]\n",
    "def predict(ml_model):\n",
    "    #print('Model is: {}'.format(ml_model))\n",
    "    model= ml_model.fit(x_train,y_train)\n",
    "    print(\"Training score: {}\".format(model.score(x_train,y_train)))\n",
    "    predictions = model.predict(x_test)\n",
    "    print(\"Predictions are: {}\".format(predictions[0:5]))\n",
    "    print('\\n')\n",
    "    r2score=r2_score(y_test,predictions) \n",
    "    print(\"r2 score is: {}\".format(r2score))\n",
    "          \n",
    "    print('MAE:{}'.format(mse(y_test,predictions)))\n",
    "    print('MSE:{}'.format(mse(y_test,predictions)))\n",
    "    print('RMSE:{}'.format(np.sqrt(mse(y_test,predictions))))\n",
    "    model_.append(type(ml_model).__name__)\n",
    "    score_.append(np.round(r2score,2))\n",
    "    \n",
    "     \n",
    "    sns.distplot(y_test-predictions) "
   ]
  },
  {
   "cell_type": "code",
   "execution_count": 8,
   "id": "7293e451",
   "metadata": {},
   "outputs": [],
   "source": [
    "xgb=xgboost.XGBRegressor(enable_categorical=True,\n",
    "                        colsample_bytree=0.9,\n",
    "                        colsample_bylevel=0.9,\n",
    "                        colsample_bynode=0.9,\n",
    "                        subsample=1,\n",
    "                        tree_method=\"hist\",\n",
    "                        #max_delta_step=0,\n",
    "                        max_depth=2,\n",
    "                        learning_rate=0.35,\n",
    "                        reg_alpha=0.9,\n",
    "                        reg_lambda=0.9,\n",
    "                        n_estimators=250,#,800,900,1000],#,800,900,1000],\n",
    "                        min_child_weight=5,\n",
    "                        random_state=123\n",
    "                 \n",
    ")\n",
    "                     \n",
    "            "
   ]
  },
  {
   "cell_type": "code",
   "execution_count": 9,
   "id": "a274acc3",
   "metadata": {},
   "outputs": [
    {
     "name": "stdout",
     "output_type": "stream",
     "text": [
      "Training score: 0.9332885162842295\n",
      "Predictions are: [135498.   283581.88 338856.28 108190.39  71804.51]\n",
      "\n",
      "\n",
      "r2 score is: 0.9089740194504852\n",
      "MAE:571653706.5648357\n",
      "MSE:571653706.5648357\n",
      "RMSE:23909.280762181777\n"
     ]
    },
    {
     "name": "stderr",
     "output_type": "stream",
     "text": [
      "C:\\Users\\hp\\AppData\\Local\\Temp\\ipykernel_15700\\3824652524.py:20: UserWarning: \n",
      "\n",
      "`distplot` is a deprecated function and will be removed in seaborn v0.14.0.\n",
      "\n",
      "Please adapt your code to use either `displot` (a figure-level function with\n",
      "similar flexibility) or `histplot` (an axes-level function for histograms).\n",
      "\n",
      "For a guide to updating your code to use the new functions, please see\n",
      "https://gist.github.com/mwaskom/de44147ed2974457ad6372750bbe5751\n",
      "\n",
      "  sns.distplot(y_test-predictions)\n"
     ]
    },
    {
     "name": "stdout",
     "output_type": "stream",
     "text": [
      "CPU times: total: 2.67 s\n",
      "Wall time: 810 ms\n"
     ]
    },
    {
     "data": {
      "image/png": "[encoded data removed]",
      "text/plain": [
       "<Figure size 640x480 with 1 Axes>"
      ]
     },
     "metadata": {},
     "output_type": "display_data"
    }
   ],
   "source": [
    "%%time\n",
    "predict(xgb)"
   ]
  },
  {
   "cell_type": "markdown",
   "id": "482332c6",
   "metadata": {},
   "source": [
    "# Cross Validation:"
   ]
  },
  {
   "cell_type": "code",
   "execution_count": 24,
   "id": "154a6d2e",
   "metadata": {},
   "outputs": [
    {
     "data": {
      "text/plain": [
       "['accuracy',\n",
       " 'adjusted_mutual_info_score',\n",
       " 'adjusted_rand_score',\n",
       " 'average_precision',\n",
       " 'balanced_accuracy',\n",
       " 'completeness_score',\n",
       " 'explained_variance',\n",
       " 'f1',\n",
       " 'f1_macro',\n",
       " 'f1_micro',\n",
       " 'f1_samples',\n",
       " 'f1_weighted',\n",
       " 'fowlkes_mallows_score',\n",
       " 'homogeneity_score',\n",
       " 'jaccard',\n",
       " 'jaccard_macro',\n",
       " 'jaccard_micro',\n",
       " 'jaccard_samples',\n",
       " 'jaccard_weighted',\n",
       " 'matthews_corrcoef',\n",
       " 'max_error',\n",
       " 'mutual_info_score',\n",
       " 'neg_brier_score',\n",
       " 'neg_log_loss',\n",
       " 'neg_mean_absolute_error',\n",
       " 'neg_mean_absolute_percentage_error',\n",
       " 'neg_mean_gamma_deviance',\n",
       " 'neg_mean_poisson_deviance',\n",
       " 'neg_mean_squared_error',\n",
       " 'neg_mean_squared_log_error',\n",
       " 'neg_median_absolute_error',\n",
       " 'neg_negative_likelihood_ratio',\n",
       " 'neg_root_mean_squared_error',\n",
       " 'normalized_mutual_info_score',\n",
       " 'positive_likelihood_ratio',\n",
       " 'precision',\n",
       " 'precision_macro',\n",
       " 'precision_micro',\n",
       " 'precision_samples',\n",
       " 'precision_weighted',\n",
       " 'r2',\n",
       " 'rand_score',\n",
       " 'recall',\n",
       " 'recall_macro',\n",
       " 'recall_micro',\n",
       " 'recall_samples',\n",
       " 'recall_weighted',\n",
       " 'roc_auc',\n",
       " 'roc_auc_ovo',\n",
       " 'roc_auc_ovo_weighted',\n",
       " 'roc_auc_ovr',\n",
       " 'roc_auc_ovr_weighted',\n",
       " 'top_k_accuracy',\n",
       " 'v_measure_score']"
      ]
     },
     "execution_count": 24,
     "metadata": {},
     "output_type": "execute_result"
    }
   ],
   "source": [
    "sklearn.metrics.get_scorer_names()"
   ]
  },
  {
   "cell_type": "code",
   "execution_count": 26,
   "id": "8adec5b8",
   "metadata": {},
   "outputs": [],
   "source": [
    "r2_scors=cross_val_score(estimator=xgb,X=x,y=Y,cv=4,\n",
    "                scoring=\"r2\",\n",
    "               n_jobs=-1)"
   ]
  },
  {
   "cell_type": "code",
   "execution_count": 29,
   "id": "54a78812",
   "metadata": {},
   "outputs": [
    {
     "data": {
      "text/plain": [
       "0.9084788470438014"
      ]
     },
     "execution_count": 29,
     "metadata": {},
     "output_type": "execute_result"
    }
   ],
   "source": [
    "r2_score=scors.mean()\n",
    "score"
   ]
  },
  {
   "cell_type": "code",
   "execution_count": 31,
   "id": "3b45d5d2",
   "metadata": {},
   "outputs": [
    {
     "data": {
      "text/plain": [
       "23412.81532189319"
      ]
     },
     "execution_count": 31,
     "metadata": {},
     "output_type": "execute_result"
    }
   ],
   "source": [
    "rmse=-cross_val_score(estimator=xgb,X=x,y=Y,cv=4,\n",
    "                scoring=\"neg_root_mean_squared_error\",\n",
    "               n_jobs=-1)\n",
    "rmse.mean()"
   ]
  },
  {
   "cell_type": "code",
   "execution_count": 37,
   "id": "8704f2cd",
   "metadata": {},
   "outputs": [
    {
     "data": {
      "text/plain": [
       "19096"
      ]
     },
     "execution_count": 37,
     "metadata": {},
     "output_type": "execute_result"
    }
   ],
   "source": [
    "predicts=cross_val_predict(estimator=xgb,X=x,y=Y,cv=4,\n",
    "               n_jobs=-1)\n",
    "len(predicts)"
   ]
  },
  {
   "cell_type": "code",
   "execution_count": 40,
   "id": "d37e07c6",
   "metadata": {},
   "outputs": [
    {
     "data": {
      "text/plain": [
       "23445.097708142508"
      ]
     },
     "execution_count": 40,
     "metadata": {},
     "output_type": "execute_result"
    }
   ],
   "source": [
    "np.sqrt(mse(predicts,Y))"
   ]
  },
  {
   "cell_type": "code",
   "execution_count": 42,
   "id": "bd37ca30",
   "metadata": {},
   "outputs": [
    {
     "data": {
      "text/html": [
       "<style>#sk-container-id-2 {color: black;background-color: white;}#sk-container-id-2 pre{padding: 0;}#sk-container-id-2 div.sk-toggleable {background-color: white;}#sk-container-id-2 label.sk-toggleable__label {cursor: pointer;display: block;width: 100%;margin-bottom: 0;padding: 0.3em;box-sizing: border-box;text-align: center;}#sk-container-id-2 label.sk-toggleable__label-arrow:before {content: \"▸\";float: left;margin-right: 0.25em;color: #696969;}#sk-container-id-2 label.sk-toggleable__label-arrow:hover:before {color: black;}#sk-container-id-2 div.sk-estimator:hover label.sk-toggleable__label-arrow:before {color: black;}#sk-container-id-2 div.sk-toggleable__content {max-height: 0;max-width: 0;overflow: hidden;text-align: left;background-color: #f0f8ff;}#sk-container-id-2 div.sk-toggleable__content pre {margin: 0.2em;color: black;border-radius: 0.25em;background-color: #f0f8ff;}#sk-container-id-2 input.sk-toggleable__control:checked~div.sk-toggleable__content {max-height: 200px;max-width: 100%;overflow: auto;}#sk-container-id-2 input.sk-toggleable__control:checked~label.sk-toggleable__label-arrow:before {content: \"▾\";}#sk-container-id-2 div.sk-estimator input.sk-toggleable__control:checked~label.sk-toggleable__label {background-color: #d4ebff;}#sk-container-id-2 div.sk-label input.sk-toggleable__control:checked~label.sk-toggleable__label {background-color: #d4ebff;}#sk-container-id-2 input.sk-hidden--visually {border: 0;clip: rect(1px 1px 1px 1px);clip: rect(1px, 1px, 1px, 1px);height: 1px;margin: -1px;overflow: hidden;padding: 0;position: absolute;width: 1px;}#sk-container-id-2 div.sk-estimator {font-family: monospace;background-color: #f0f8ff;border: 1px dotted black;border-radius: 0.25em;box-sizing: border-box;margin-bottom: 0.5em;}#sk-container-id-2 div.sk-estimator:hover {background-color: #d4ebff;}#sk-container-id-2 div.sk-parallel-item::after {content: \"\";width: 100%;border-bottom: 1px solid gray;flex-grow: 1;}#sk-container-id-2 div.sk-label:hover label.sk-toggleable__label {background-color: #d4ebff;}#sk-container-id-2 div.sk-serial::before {content: \"\";position: absolute;border-left: 1px solid gray;box-sizing: border-box;top: 0;bottom: 0;left: 50%;z-index: 0;}#sk-container-id-2 div.sk-serial {display: flex;flex-direction: column;align-items: center;background-color: white;padding-right: 0.2em;padding-left: 0.2em;position: relative;}#sk-container-id-2 div.sk-item {position: relative;z-index: 1;}#sk-container-id-2 div.sk-parallel {display: flex;align-items: stretch;justify-content: center;background-color: white;position: relative;}#sk-container-id-2 div.sk-item::before, #sk-container-id-2 div.sk-parallel-item::before {content: \"\";position: absolute;border-left: 1px solid gray;box-sizing: border-box;top: 0;bottom: 0;left: 50%;z-index: -1;}#sk-container-id-2 div.sk-parallel-item {display: flex;flex-direction: column;z-index: 1;position: relative;background-color: white;}#sk-container-id-2 div.sk-parallel-item:first-child::after {align-self: flex-end;width: 50%;}#sk-container-id-2 div.sk-parallel-item:last-child::after {align-self: flex-start;width: 50%;}#sk-container-id-2 div.sk-parallel-item:only-child::after {width: 0;}#sk-container-id-2 div.sk-dashed-wrapped {border: 1px dashed gray;margin: 0 0.4em 0.5em 0.4em;box-sizing: border-box;padding-bottom: 0.4em;background-color: white;}#sk-container-id-2 div.sk-label label {font-family: monospace;font-weight: bold;display: inline-block;line-height: 1.2em;}#sk-container-id-2 div.sk-label-container {text-align: center;}#sk-container-id-2 div.sk-container {/* jupyter's `normalize.less` sets `[hidden] { display: none; }` but bootstrap.min.css set `[hidden] { display: none !important; }` so we also need the `!important` here to be able to override the default hidden behavior on the sphinx rendered scikit-learn.org. See: https://github.com/scikit-learn/scikit-learn/issues/21755 */display: inline-block !important;position: relative;}#sk-container-id-2 div.sk-text-repr-fallback {display: none;}</style><div id=\"sk-container-id-2\" class=\"sk-top-container\"><div class=\"sk-text-repr-fallback\"><pre>XGBRegressor(base_score=None, booster=None, callbacks=None,\n",
       "             colsample_bylevel=0.9, colsample_bynode=0.9, colsample_bytree=0.9,\n",
       "             early_stopping_rounds=None, enable_categorical=True,\n",
       "             eval_metric=None, feature_types=None, gamma=None, gpu_id=None,\n",
       "             grow_policy=None, importance_type=None,\n",
       "             interaction_constraints=None, learning_rate=0.35, max_bin=None,\n",
       "             max_cat_threshold=None, max_cat_to_onehot=None,\n",
       "             max_delta_step=None, max_depth=2, max_leaves=None,\n",
       "             min_child_weight=5, missing=nan, monotone_constraints=None,\n",
       "             n_estimators=250, n_jobs=None, num_parallel_tree=None,\n",
       "             predictor=None, random_state=123, ...)</pre><b>In a Jupyter environment, please rerun this cell to show the HTML representation or trust the notebook. <br />On GitHub, the HTML representation is unable to render, please try loading this page with nbviewer.org.</b></div><div class=\"sk-container\" hidden><div class=\"sk-item\"><div class=\"sk-estimator sk-toggleable\"><input class=\"sk-toggleable__control sk-hidden--visually\" id=\"sk-estimator-id-2\" type=\"checkbox\" checked><label for=\"sk-estimator-id-2\" class=\"sk-toggleable__label sk-toggleable__label-arrow\">XGBRegressor</label><div class=\"sk-toggleable__content\"><pre>XGBRegressor(base_score=None, booster=None, callbacks=None,\n",
       "             colsample_bylevel=0.9, colsample_bynode=0.9, colsample_bytree=0.9,\n",
       "             early_stopping_rounds=None, enable_categorical=True,\n",
       "             eval_metric=None, feature_types=None, gamma=None, gpu_id=None,\n",
       "             grow_policy=None, importance_type=None,\n",
       "             interaction_constraints=None, learning_rate=0.35, max_bin=None,\n",
       "             max_cat_threshold=None, max_cat_to_onehot=None,\n",
       "             max_delta_step=None, max_depth=2, max_leaves=None,\n",
       "             min_child_weight=5, missing=nan, monotone_constraints=None,\n",
       "             n_estimators=250, n_jobs=None, num_parallel_tree=None,\n",
       "             predictor=None, random_state=123, ...)</pre></div></div></div></div></div>"
      ],
      "text/plain": [
       "XGBRegressor(base_score=None, booster=None, callbacks=None,\n",
       "             colsample_bylevel=0.9, colsample_bynode=0.9, colsample_bytree=0.9,\n",
       "             early_stopping_rounds=None, enable_categorical=True,\n",
       "             eval_metric=None, feature_types=None, gamma=None, gpu_id=None,\n",
       "             grow_policy=None, importance_type=None,\n",
       "             interaction_constraints=None, learning_rate=0.35, max_bin=None,\n",
       "             max_cat_threshold=None, max_cat_to_onehot=None,\n",
       "             max_delta_step=None, max_depth=2, max_leaves=None,\n",
       "             min_child_weight=5, missing=nan, monotone_constraints=None,\n",
       "             n_estimators=250, n_jobs=None, num_parallel_tree=None,\n",
       "             predictor=None, random_state=123, ...)"
      ]
     },
     "execution_count": 42,
     "metadata": {},
     "output_type": "execute_result"
    }
   ],
   "source": [
    "xgb.fit(x,Y)\n"
   ]
  },
  {
   "cell_type": "markdown",
   "id": "d62c43e8",
   "metadata": {},
   "source": [
    "## Hyper Tunning XGBRegressor Model:"
   ]
  },
  {
   "cell_type": "code",
   "execution_count": 76,
   "id": "b83cbc58",
   "metadata": {},
   "outputs": [
    {
     "data": {
      "text/plain": [
       "[0.1, 0.2, 0.30000000000000004, 0.4, 0.5, 0.6, 0.7000000000000001, 0.8, 0.9]"
      ]
     },
     "execution_count": 76,
     "metadata": {},
     "output_type": "execute_result"
    }
   ],
   "source": [
    "list(np.arange(0.1,1.0,0.1))\n",
    "list(np.arange(0.10,1.00,0.10))\n",
    "val=[0.1,0.2,0.3,0.4,0.5,0.6,0.7,0.8,0.9]"
   ]
  },
  {
   "cell_type": "code",
   "execution_count": 80,
   "id": "c28cad76",
   "metadata": {},
   "outputs": [],
   "source": [
    "param={\n",
    "       \"booster\":[\"gbtree\", \"gblinear\",\"dart\"],\n",
    "       \"colsample_bytree\":val,\n",
    "       \"colsample_bylevel\":val,\n",
    "       \"colsample_bynode\":val,\n",
    "       \"reg_alpha\":val,\n",
    "       \"reg_lambda\":val,\n",
    "       \"subsample\":val,\n",
    "       #\"gamma\":[0,1,2,3,4,5],\n",
    "       \"learning_rate\":[0.01,0.02,0.03,0.04,0.05,0.06,0.07,0.08,0.09,0.1],#to 0.3\n",
    "       \"max_delta_step\":[1,2,3,4,5],\n",
    "       \"max_depth\":[1,2,3,4],\n",
    "       \"n_estimators\":[100,200,300,400],#,800,900,1000],#,800,900,1000],\n",
    "       \"min_child_weight\":[1,2,3,4],\n",
    "       #\"max_cat_threshold\":[1,5,10]\n",
    "       \n",
    "      \n",
    "}\n",
    "\n",
    "#scorer = metrics.make_scorer(metrics.r2_score)\n",
    "\n",
    "rs_xgb=RandomizedSearchCV(estimator=xgb,n_iter=500,cv=3,scoring=\"r2\",\n",
    "                          param_distributions=param,n_jobs=-1,verbose=1)\n",
    "\n",
    "gs_xgb=GridSearchCV(estimator=xgb,\n",
    "    param_grid=param,\n",
    "    scoring=\"r2\",\n",
    "    n_jobs=-1,\n",
    "    cv=3,\n",
    "        )"
   ]
  },
  {
   "cell_type": "code",
   "execution_count": 10,
   "id": "3f4bb2c7",
   "metadata": {},
   "outputs": [
    {
     "name": "stdout",
     "output_type": "stream",
     "text": [
      "CPU times: total: 0 ns\n",
      "Wall time: 0 ns\n"
     ]
    }
   ],
   "source": [
    "%%time\n",
    "#predict(rs_xgb)"
   ]
  },
  {
   "cell_type": "code",
   "execution_count": 61,
   "id": "d2849b26",
   "metadata": {},
   "outputs": [
    {
     "name": "stdout",
     "output_type": "stream",
     "text": [
      "hello\n",
      "CPU times: total: 0 ns\n",
      "Wall time: 996 µs\n"
     ]
    }
   ],
   "source": [
    "%%time\n",
    "print(\"hello\")"
   ]
  },
  {
   "cell_type": "code",
   "execution_count": 276,
   "id": "6c20c03a",
   "metadata": {},
   "outputs": [
    {
     "data": {
      "text/plain": [
       "0           Manuelle\n",
       "1           Manuelle\n",
       "2        Automatique\n",
       "3           Manuelle\n",
       "4           Manuelle\n",
       "            ...     \n",
       "19091       Manuelle\n",
       "19092    Automatique\n",
       "19093       Manuelle\n",
       "19094    Automatique\n",
       "19095       Manuelle\n",
       "Name: Boite_de_vitesses, Length: 19096, dtype: object"
      ]
     },
     "execution_count": 276,
     "metadata": {},
     "output_type": "execute_result"
    }
   ],
   "source": [
    "df[\"Boite_de_vitesses\"]"
   ]
  },
  {
   "cell_type": "code",
   "execution_count": 43,
   "id": "2c741cf9",
   "metadata": {},
   "outputs": [
    {
     "data": {
      "text/html": [
       "<div>\n",
       "<style scoped>\n",
       "    .dataframe tbody tr th:only-of-type {\n",
       "        vertical-align: middle;\n",
       "    }\n",
       "\n",
       "    .dataframe tbody tr th {\n",
       "        vertical-align: top;\n",
       "    }\n",
       "\n",
       "    .dataframe thead th {\n",
       "        text-align: right;\n",
       "    }\n",
       "</style>\n",
       "<table border=\"1\" class=\"dataframe\">\n",
       "  <thead>\n",
       "    <tr style=\"text-align: right;\">\n",
       "      <th></th>\n",
       "      <th>Year</th>\n",
       "      <th>Kilométrage</th>\n",
       "      <th>Puissance_fiscale</th>\n",
       "      <th>Nombre_de_portes</th>\n",
       "      <th>Première_main</th>\n",
       "      <th>Power</th>\n",
       "      <th>Location</th>\n",
       "      <th>Boite_de_vitesses</th>\n",
       "      <th>Couleur</th>\n",
       "      <th>Carrosserie</th>\n",
       "      <th>Mark</th>\n",
       "      <th>Model</th>\n",
       "    </tr>\n",
       "  </thead>\n",
       "  <tbody>\n",
       "    <tr>\n",
       "      <th>0</th>\n",
       "      <td>2008</td>\n",
       "      <td>165000</td>\n",
       "      <td>7</td>\n",
       "      <td>5</td>\n",
       "      <td>0</td>\n",
       "      <td>Essence</td>\n",
       "      <td>Marrakech</td>\n",
       "      <td>Manuelle</td>\n",
       "      <td>Bleu</td>\n",
       "      <td>Citadine</td>\n",
       "      <td>FORD</td>\n",
       "      <td>Fiesta</td>\n",
       "    </tr>\n",
       "    <tr>\n",
       "      <th>1</th>\n",
       "      <td>2018</td>\n",
       "      <td>90000</td>\n",
       "      <td>6</td>\n",
       "      <td>5</td>\n",
       "      <td>0</td>\n",
       "      <td>Diesel</td>\n",
       "      <td>Casablanca</td>\n",
       "      <td>Manuelle</td>\n",
       "      <td>Bleu</td>\n",
       "      <td>Not Specified</td>\n",
       "      <td>PEUGEOT</td>\n",
       "      <td>208</td>\n",
       "    </tr>\n",
       "  </tbody>\n",
       "</table>\n",
       "</div>"
      ],
      "text/plain": [
       "   Year  Kilométrage  Puissance_fiscale  Nombre_de_portes  Première_main  \\\n",
       "0  2008       165000                  7                 5              0   \n",
       "1  2018        90000                  6                 5              0   \n",
       "\n",
       "     Power    Location Boite_de_vitesses Couleur    Carrosserie     Mark  \\\n",
       "0  Essence   Marrakech          Manuelle    Bleu       Citadine     FORD   \n",
       "1   Diesel  Casablanca          Manuelle    Bleu  Not Specified  PEUGEOT   \n",
       "\n",
       "    Model  \n",
       "0  Fiesta  \n",
       "1     208  "
      ]
     },
     "execution_count": 43,
     "metadata": {},
     "output_type": "execute_result"
    }
   ],
   "source": [
    "my_car=pd.DataFrame({'Year':[2008,2018],\n",
    " 'Power':[\"Essence\",\"Diesel\"],\n",
    " 'Location':[\"Marrakech\",\"Casablanca\"],\n",
    " 'Kilométrage':[165000,90000],\n",
    " 'Boite_de_vitesses':['Manuelle',\"Manuelle\"],\n",
    " 'Puissance_fiscale':[7,6],\n",
    " 'Nombre_de_portes':[5,5],\n",
    " 'Première_main':[0,0],\n",
    " 'Couleur':[\"Bleu\",\"Bleu\"],\n",
    " 'Carrosserie':['Citadine','Not Specified'],\n",
    " 'Mark':[\"FORD\",\"PEUGEOT\"],\n",
    " 'Model':[\"Fiesta\",\"208\"],\n",
    " #'Annonce Month':[7,7],\n",
    " #'Annonce Day':[25,25],\n",
    " #'Annonce Year':[2023,2023]\n",
    "                    }\n",
    "                     ,index=[0,1])\n",
    "\n",
    "\n",
    "num_df=my_car.select_dtypes(exclude=\"object\")\n",
    "cat_df=my_car.select_dtypes(include=\"object\")\n",
    "cat_df=cat_df.astype(\"category\")\n",
    "My_Car=pd.concat([num_df,cat_df],axis=1)\n",
    "My_Car"
   ]
  },
  {
   "cell_type": "code",
   "execution_count": 44,
   "id": "647952a2",
   "metadata": {},
   "outputs": [
    {
     "data": {
      "text/plain": [
       "array([ 63777.184, 201628.53 ], dtype=float32)"
      ]
     },
     "execution_count": 44,
     "metadata": {},
     "output_type": "execute_result"
    }
   ],
   "source": [
    "xgb.predict(My_Car)"
   ]
  },
  {
   "cell_type": "code",
   "execution_count": 45,
   "id": "80269bef",
   "metadata": {},
   "outputs": [],
   "source": [
    "test_data=pd.read_csv(\"cleaned_car_test_data.csv\")\n",
    "y_data=test_data[\"Price\"]\n",
    "x_data=test_data.drop(columns=['Unnamed: 0.2', 'Unnamed: 0.1', 'Unnamed: 0','Link','mark_model','Date','Price'])\n",
    "x_data=x_data[['Year', 'Power', 'Location', 'Kilométrage', 'Boite_de_vitesses',\n",
    "       'Puissance_fiscale', 'Nombre_de_portes', 'Première_main', 'Couleur',\n",
    "       'Carrosserie','Mark',\n",
    "       'Model']]"
   ]
  },
  {
   "cell_type": "code",
   "execution_count": 46,
   "id": "d286c26c",
   "metadata": {},
   "outputs": [
    {
     "data": {
      "text/html": [
       "<div>\n",
       "<style scoped>\n",
       "    .dataframe tbody tr th:only-of-type {\n",
       "        vertical-align: middle;\n",
       "    }\n",
       "\n",
       "    .dataframe tbody tr th {\n",
       "        vertical-align: top;\n",
       "    }\n",
       "\n",
       "    .dataframe thead th {\n",
       "        text-align: right;\n",
       "    }\n",
       "</style>\n",
       "<table border=\"1\" class=\"dataframe\">\n",
       "  <thead>\n",
       "    <tr style=\"text-align: right;\">\n",
       "      <th></th>\n",
       "      <th>Year</th>\n",
       "      <th>Kilométrage</th>\n",
       "      <th>Puissance_fiscale</th>\n",
       "      <th>Nombre_de_portes</th>\n",
       "      <th>Première_main</th>\n",
       "      <th>Power</th>\n",
       "      <th>Location</th>\n",
       "      <th>Boite_de_vitesses</th>\n",
       "      <th>Couleur</th>\n",
       "      <th>Carrosserie</th>\n",
       "      <th>Mark</th>\n",
       "      <th>Model</th>\n",
       "    </tr>\n",
       "  </thead>\n",
       "  <tbody>\n",
       "    <tr>\n",
       "      <th>0</th>\n",
       "      <td>2023</td>\n",
       "      <td>4000.0</td>\n",
       "      <td>6.0</td>\n",
       "      <td>5.0</td>\n",
       "      <td>0</td>\n",
       "      <td>Diesel</td>\n",
       "      <td>Casablanca</td>\n",
       "      <td>Manuelle</td>\n",
       "      <td>Not Specified</td>\n",
       "      <td>Not Specified</td>\n",
       "      <td>FIAT</td>\n",
       "      <td>500x</td>\n",
       "    </tr>\n",
       "    <tr>\n",
       "      <th>1</th>\n",
       "      <td>2022</td>\n",
       "      <td>9000.0</td>\n",
       "      <td>6.0</td>\n",
       "      <td>5.0</td>\n",
       "      <td>0</td>\n",
       "      <td>Diesel</td>\n",
       "      <td>Casablanca</td>\n",
       "      <td>Manuelle</td>\n",
       "      <td>Not Specified</td>\n",
       "      <td>Not Specified</td>\n",
       "      <td>JEEP</td>\n",
       "      <td>Renegade</td>\n",
       "    </tr>\n",
       "    <tr>\n",
       "      <th>2</th>\n",
       "      <td>2019</td>\n",
       "      <td>79000.0</td>\n",
       "      <td>6.0</td>\n",
       "      <td>5.0</td>\n",
       "      <td>0</td>\n",
       "      <td>Diesel</td>\n",
       "      <td>Casablanca</td>\n",
       "      <td>Automatique</td>\n",
       "      <td>Not Specified</td>\n",
       "      <td>Not Specified</td>\n",
       "      <td>JEEP</td>\n",
       "      <td>Renegade</td>\n",
       "    </tr>\n",
       "    <tr>\n",
       "      <th>3</th>\n",
       "      <td>2019</td>\n",
       "      <td>64000.0</td>\n",
       "      <td>6.0</td>\n",
       "      <td>5.0</td>\n",
       "      <td>0</td>\n",
       "      <td>Diesel</td>\n",
       "      <td>Casablanca</td>\n",
       "      <td>Automatique</td>\n",
       "      <td>Not Specified</td>\n",
       "      <td>Not Specified</td>\n",
       "      <td>JEEP</td>\n",
       "      <td>Renegade</td>\n",
       "    </tr>\n",
       "    <tr>\n",
       "      <th>4</th>\n",
       "      <td>2023</td>\n",
       "      <td>4000.0</td>\n",
       "      <td>7.0</td>\n",
       "      <td>5.0</td>\n",
       "      <td>0</td>\n",
       "      <td>Essence</td>\n",
       "      <td>Casablanca</td>\n",
       "      <td>Manuelle</td>\n",
       "      <td>Not Specified</td>\n",
       "      <td>Not Specified</td>\n",
       "      <td>FIAT</td>\n",
       "      <td>Panda</td>\n",
       "    </tr>\n",
       "    <tr>\n",
       "      <th>...</th>\n",
       "      <td>...</td>\n",
       "      <td>...</td>\n",
       "      <td>...</td>\n",
       "      <td>...</td>\n",
       "      <td>...</td>\n",
       "      <td>...</td>\n",
       "      <td>...</td>\n",
       "      <td>...</td>\n",
       "      <td>...</td>\n",
       "      <td>...</td>\n",
       "      <td>...</td>\n",
       "      <td>...</td>\n",
       "    </tr>\n",
       "    <tr>\n",
       "      <th>61</th>\n",
       "      <td>2021</td>\n",
       "      <td>39000.0</td>\n",
       "      <td>6.0</td>\n",
       "      <td>5.0</td>\n",
       "      <td>1</td>\n",
       "      <td>Diesel</td>\n",
       "      <td>Casablanca</td>\n",
       "      <td>Automatique</td>\n",
       "      <td>Not Specified</td>\n",
       "      <td>Not Specified</td>\n",
       "      <td>ALFA-ROMEO</td>\n",
       "      <td>Giulietta</td>\n",
       "    </tr>\n",
       "    <tr>\n",
       "      <th>62</th>\n",
       "      <td>2018</td>\n",
       "      <td>89000.0</td>\n",
       "      <td>6.0</td>\n",
       "      <td>5.0</td>\n",
       "      <td>0</td>\n",
       "      <td>Diesel</td>\n",
       "      <td>Casablanca</td>\n",
       "      <td>Manuelle</td>\n",
       "      <td>Not Specified</td>\n",
       "      <td>Not Specified</td>\n",
       "      <td>CITROEN</td>\n",
       "      <td>Berlingo</td>\n",
       "    </tr>\n",
       "    <tr>\n",
       "      <th>63</th>\n",
       "      <td>2021</td>\n",
       "      <td>54000.0</td>\n",
       "      <td>6.0</td>\n",
       "      <td>5.0</td>\n",
       "      <td>0</td>\n",
       "      <td>Diesel</td>\n",
       "      <td>Casablanca</td>\n",
       "      <td>Manuelle</td>\n",
       "      <td>Not Specified</td>\n",
       "      <td>Not Specified</td>\n",
       "      <td>RENAULT</td>\n",
       "      <td>Kangoo</td>\n",
       "    </tr>\n",
       "    <tr>\n",
       "      <th>64</th>\n",
       "      <td>2022</td>\n",
       "      <td>19000.0</td>\n",
       "      <td>6.0</td>\n",
       "      <td>5.0</td>\n",
       "      <td>0</td>\n",
       "      <td>Diesel</td>\n",
       "      <td>Casablanca</td>\n",
       "      <td>Manuelle</td>\n",
       "      <td>Not Specified</td>\n",
       "      <td>Not Specified</td>\n",
       "      <td>DACIA</td>\n",
       "      <td>Lodgy</td>\n",
       "    </tr>\n",
       "    <tr>\n",
       "      <th>65</th>\n",
       "      <td>2023</td>\n",
       "      <td>4000.0</td>\n",
       "      <td>9.0</td>\n",
       "      <td>5.0</td>\n",
       "      <td>1</td>\n",
       "      <td>Diesel</td>\n",
       "      <td>Marrakech</td>\n",
       "      <td>Automatique</td>\n",
       "      <td>Gris fonce</td>\n",
       "      <td>Compact</td>\n",
       "      <td>AUDI</td>\n",
       "      <td>Autre</td>\n",
       "    </tr>\n",
       "  </tbody>\n",
       "</table>\n",
       "<p>66 rows × 12 columns</p>\n",
       "</div>"
      ],
      "text/plain": [
       "    Year  Kilométrage  Puissance_fiscale  Nombre_de_portes  Première_main  \\\n",
       "0   2023       4000.0                6.0               5.0              0   \n",
       "1   2022       9000.0                6.0               5.0              0   \n",
       "2   2019      79000.0                6.0               5.0              0   \n",
       "3   2019      64000.0                6.0               5.0              0   \n",
       "4   2023       4000.0                7.0               5.0              0   \n",
       "..   ...          ...                ...               ...            ...   \n",
       "61  2021      39000.0                6.0               5.0              1   \n",
       "62  2018      89000.0                6.0               5.0              0   \n",
       "63  2021      54000.0                6.0               5.0              0   \n",
       "64  2022      19000.0                6.0               5.0              0   \n",
       "65  2023       4000.0                9.0               5.0              1   \n",
       "\n",
       "      Power    Location Boite_de_vitesses        Couleur    Carrosserie  \\\n",
       "0    Diesel  Casablanca          Manuelle  Not Specified  Not Specified   \n",
       "1    Diesel  Casablanca          Manuelle  Not Specified  Not Specified   \n",
       "2    Diesel  Casablanca       Automatique  Not Specified  Not Specified   \n",
       "3    Diesel  Casablanca       Automatique  Not Specified  Not Specified   \n",
       "4   Essence  Casablanca          Manuelle  Not Specified  Not Specified   \n",
       "..      ...         ...               ...            ...            ...   \n",
       "61   Diesel  Casablanca       Automatique  Not Specified  Not Specified   \n",
       "62   Diesel  Casablanca          Manuelle  Not Specified  Not Specified   \n",
       "63   Diesel  Casablanca          Manuelle  Not Specified  Not Specified   \n",
       "64   Diesel  Casablanca          Manuelle  Not Specified  Not Specified   \n",
       "65   Diesel   Marrakech       Automatique     Gris fonce        Compact   \n",
       "\n",
       "          Mark      Model  \n",
       "0         FIAT       500x  \n",
       "1         JEEP   Renegade  \n",
       "2         JEEP   Renegade  \n",
       "3         JEEP   Renegade  \n",
       "4         FIAT      Panda  \n",
       "..         ...        ...  \n",
       "61  ALFA-ROMEO  Giulietta  \n",
       "62     CITROEN   Berlingo  \n",
       "63     RENAULT     Kangoo  \n",
       "64       DACIA      Lodgy  \n",
       "65        AUDI      Autre  \n",
       "\n",
       "[66 rows x 12 columns]"
      ]
     },
     "execution_count": 46,
     "metadata": {},
     "output_type": "execute_result"
    }
   ],
   "source": [
    "num_df=x_data.select_dtypes(exclude=\"object\")\n",
    "cat_df=x_data.select_dtypes(include=\"object\")\n",
    "cat_df=cat_df.astype(\"category\")\n",
    "X_data=pd.concat([num_df,cat_df],axis=1)\n",
    "X_data"
   ]
  },
  {
   "cell_type": "code",
   "execution_count": 91,
   "id": "476cc780",
   "metadata": {},
   "outputs": [
    {
     "data": {
      "text/plain": [
       "Index(['Year', 'Kilométrage', 'Puissance_fiscale', 'Nombre_de_portes',\n",
       "       'Première_main', 'Power', 'Location', 'Boite_de_vitesses', 'Couleur',\n",
       "       'Carrosserie', 'Mark', 'Model'],\n",
       "      dtype='object')"
      ]
     },
     "execution_count": 91,
     "metadata": {},
     "output_type": "execute_result"
    }
   ],
   "source": [
    "X_data.columns"
   ]
  },
  {
   "cell_type": "code",
   "execution_count": 47,
   "id": "c750db16",
   "metadata": {},
   "outputs": [],
   "source": [
    "pred=xgb.predict(X_data)"
   ]
  },
  {
   "cell_type": "code",
   "execution_count": 48,
   "id": "571fd266",
   "metadata": {},
   "outputs": [
    {
     "data": {
      "text/plain": [
       "0.12340464488270553"
      ]
     },
     "execution_count": 48,
     "metadata": {},
     "output_type": "execute_result"
    }
   ],
   "source": [
    "r2score=r2_score(y_data,pred)\n",
    "r2score"
   ]
  },
  {
   "cell_type": "code",
   "execution_count": 49,
   "id": "d63a8085",
   "metadata": {},
   "outputs": [
    {
     "data": {
      "text/html": [
       "<div>\n",
       "<style scoped>\n",
       "    .dataframe tbody tr th:only-of-type {\n",
       "        vertical-align: middle;\n",
       "    }\n",
       "\n",
       "    .dataframe tbody tr th {\n",
       "        vertical-align: top;\n",
       "    }\n",
       "\n",
       "    .dataframe thead th {\n",
       "        text-align: right;\n",
       "    }\n",
       "</style>\n",
       "<table border=\"1\" class=\"dataframe\">\n",
       "  <thead>\n",
       "    <tr style=\"text-align: right;\">\n",
       "      <th></th>\n",
       "      <th>real price</th>\n",
       "      <th>Predictions</th>\n",
       "    </tr>\n",
       "  </thead>\n",
       "  <tbody>\n",
       "    <tr>\n",
       "      <th>0</th>\n",
       "      <td>249999.0</td>\n",
       "      <td>162893.171875</td>\n",
       "    </tr>\n",
       "    <tr>\n",
       "      <th>1</th>\n",
       "      <td>285000.0</td>\n",
       "      <td>215573.609375</td>\n",
       "    </tr>\n",
       "    <tr>\n",
       "      <th>2</th>\n",
       "      <td>198950.0</td>\n",
       "      <td>188105.156250</td>\n",
       "    </tr>\n",
       "    <tr>\n",
       "      <th>3</th>\n",
       "      <td>217500.0</td>\n",
       "      <td>189215.640625</td>\n",
       "    </tr>\n",
       "    <tr>\n",
       "      <th>4</th>\n",
       "      <td>125000.0</td>\n",
       "      <td>208449.937500</td>\n",
       "    </tr>\n",
       "    <tr>\n",
       "      <th>...</th>\n",
       "      <td>...</td>\n",
       "      <td>...</td>\n",
       "    </tr>\n",
       "    <tr>\n",
       "      <th>61</th>\n",
       "      <td>225000.0</td>\n",
       "      <td>229729.234375</td>\n",
       "    </tr>\n",
       "    <tr>\n",
       "      <th>62</th>\n",
       "      <td>98000.0</td>\n",
       "      <td>128216.320312</td>\n",
       "    </tr>\n",
       "    <tr>\n",
       "      <th>63</th>\n",
       "      <td>139000.0</td>\n",
       "      <td>196263.640625</td>\n",
       "    </tr>\n",
       "    <tr>\n",
       "      <th>64</th>\n",
       "      <td>139000.0</td>\n",
       "      <td>384696.531250</td>\n",
       "    </tr>\n",
       "    <tr>\n",
       "      <th>65</th>\n",
       "      <td>690000.0</td>\n",
       "      <td>331378.187500</td>\n",
       "    </tr>\n",
       "  </tbody>\n",
       "</table>\n",
       "<p>66 rows × 2 columns</p>\n",
       "</div>"
      ],
      "text/plain": [
       "    real price    Predictions\n",
       "0     249999.0  162893.171875\n",
       "1     285000.0  215573.609375\n",
       "2     198950.0  188105.156250\n",
       "3     217500.0  189215.640625\n",
       "4     125000.0  208449.937500\n",
       "..         ...            ...\n",
       "61    225000.0  229729.234375\n",
       "62     98000.0  128216.320312\n",
       "63    139000.0  196263.640625\n",
       "64    139000.0  384696.531250\n",
       "65    690000.0  331378.187500\n",
       "\n",
       "[66 rows x 2 columns]"
      ]
     },
     "execution_count": 49,
     "metadata": {},
     "output_type": "execute_result"
    }
   ],
   "source": [
    "pd.DataFrame({\"real price\":y_data,\"Predictions\":pred})"
   ]
  },
  {
   "cell_type": "code",
   "execution_count": null,
   "id": "eb3aa02b",
   "metadata": {},
   "outputs": [],
   "source": []
  }
 ],
 "metadata": {
  "kernelspec": {
   "display_name": "Python 3 (ipykernel)",
   "language": "python",
   "name": "python3"
  },
  "language_info": {
   "codemirror_mode": {
    "name": "ipython",
    "version": 3
   },
   "file_extension": ".py",
   "mimetype": "text/x-python",
   "name": "python",
   "nbconvert_exporter": "python",
   "pygments_lexer": "ipython3",
   "version": "3.11.4"
  }
 },
 "nbformat": 4,
 "nbformat_minor": 5
}
